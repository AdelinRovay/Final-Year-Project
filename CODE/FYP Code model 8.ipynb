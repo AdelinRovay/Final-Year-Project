{
 "cells": [
  {
   "cell_type": "markdown",
   "metadata": {},
   "source": [
    "# Importing required Libraries"
   ]
  },
  {
   "cell_type": "code",
   "execution_count": 1,
   "metadata": {},
   "outputs": [],
   "source": [
    "from datetime import datetime\n",
    "import os\n",
    "from os import listdir\n",
    "from os.path import isfile, join\n",
    "\n",
    "import librosa\n",
    "import librosa.display\n",
    "\n",
    "import numpy as np\n",
    "import pandas as pd\n",
    "\n",
    "from tensorflow.keras.models import Sequential\n",
    "from tensorflow.keras.layers import Dense, Dropout, Conv2D, MaxPooling2D, GlobalAveragePooling2D\n",
    "from keras.utils import to_categorical\n",
    "from tensorflow.keras.callbacks import ModelCheckpoint\n",
    "\n",
    "from scipy import signal\n",
    "from sklearn.metrics import confusion_matrix, classification_report, roc_curve, auc\n",
    "from sklearn.model_selection import train_test_split\n",
    "from sklearn.preprocessing import LabelEncoder\n",
    "\n",
    "import matplotlib.pyplot as plt\n",
    "import seaborn as sns"
   ]
  },
  {
   "cell_type": "markdown",
   "metadata": {},
   "source": [
    "# Importing Files"
   ]
  },
  {
   "cell_type": "code",
   "execution_count": 2,
   "metadata": {},
   "outputs": [
    {
     "data": {
      "text/plain": [
       "'/Users/ad/Downloads/FYP'"
      ]
     },
     "execution_count": 2,
     "metadata": {},
     "output_type": "execute_result"
    }
   ],
   "source": [
    "pwd"
   ]
  },
  {
   "cell_type": "code",
   "execution_count": 3,
   "metadata": {},
   "outputs": [],
   "source": [
    "mypath ='/Users/ad/Downloads/FYP/audio_and_txt_files/'\n",
    "filenames = [f for f in listdir(mypath) if (isfile(join(mypath, f)) and f.endswith('.wav'))]"
   ]
  },
  {
   "cell_type": "code",
   "execution_count": 4,
   "metadata": {},
   "outputs": [],
   "source": [
    "p_id_in_file = [] # patient IDs corresponding to each file\n",
    "for name in filenames:\n",
    "    p_id_in_file.append(int(name[:3]))\n",
    "\n",
    "p_id_in_file = np.array(p_id_in_file)"
   ]
  },
  {
   "cell_type": "markdown",
   "metadata": {},
   "source": [
    "# Creating functions for data Augmentation"
   ]
  },
  {
   "cell_type": "code",
   "execution_count": 5,
   "metadata": {},
   "outputs": [],
   "source": [
    "def shift(data, shift_max=2, shift_direction='right'):\n",
    "    shift = np.random.randint(22050 * shift_max)\n",
    "    if shift_direction == 'right':\n",
    "        shift = -shift\n",
    "    elif self.shift_direction == 'both':\n",
    "        direction = np.random.randint(0, 2)\n",
    "        if direction == 1:\n",
    "            shift = -shift\n",
    "    audio, sample_rate = librosa.load(data, res_type='kaiser_fast', duration=20) \n",
    "    b, a = signal.butter(6, [100/sample_rate,5000/sample_rate], 'bandpass', analog=False)\n",
    "    f = signal.filtfilt(b, a, audio)\n",
    "    augmented_data = np.roll(f, shift)\n",
    "    # Set to silence for heading/ tailing\n",
    "    if shift > 0:\n",
    "        augmented_data[:shift] = 0\n",
    "    else:\n",
    "        augmented_data[shift:] = 0\n",
    "    mfccs = librosa.feature.mfcc(y=augmented_data, sr=sample_rate, n_mfcc=40)\n",
    "    pad_width = max_pad_len - mfccs.shape[1]\n",
    "    mfccs = np.pad(mfccs, pad_width=((0, 0), (0, pad_width)), mode='constant')\n",
    "    \n",
    "    return mfccs"
   ]
  },
  {
   "cell_type": "code",
   "execution_count": 6,
   "metadata": {},
   "outputs": [],
   "source": [
    "def pitch(data, pitch_factor=2):\n",
    "    audio, sample_rate = librosa.load(data, res_type='kaiser_fast', duration=20) \n",
    "    audio=librosa.effects.pitch_shift(audio, sample_rate, pitch_factor)\n",
    "    b, a = signal.butter(6, [100/sample_rate,5000/sample_rate], 'bandpass', analog=False)\n",
    "    f = signal.filtfilt(b, a, audio)\n",
    "    mfccs = librosa.feature.mfcc(y=f, sr=sample_rate, n_mfcc=40)\n",
    "    pad_width = max_pad_len - mfccs.shape[1]\n",
    "    mfccs = np.pad(mfccs, pad_width=((0, 0), (0, pad_width)), mode='constant')\n",
    "    return mfccs"
   ]
  },
  {
   "cell_type": "code",
   "execution_count": 7,
   "metadata": {},
   "outputs": [],
   "source": [
    "def speed(data, speed_factor=2):\n",
    "    audio, sample_rate = librosa.load(data, res_type='kaiser_fast', duration=20)\n",
    "    audio=librosa.effects.time_stretch(audio, speed_factor)\n",
    "    b, a = signal.butter(6, [100/sample_rate,5000/sample_rate], 'bandpass', analog=False)\n",
    "    f = signal.filtfilt(b, a, audio)\n",
    "    mfccs = librosa.feature.mfcc(y=f, sr=sample_rate, n_mfcc=40)\n",
    "    pad_width = max_pad_len - mfccs.shape[1]\n",
    "    mfccs = np.pad(mfccs, pad_width=((0, 0), (0, pad_width)), mode='constant')\n",
    "    return mfccs"
   ]
  },
  {
   "cell_type": "code",
   "execution_count": 8,
   "metadata": {},
   "outputs": [],
   "source": [
    "max_pad_len = 862 # to make the length of all MFCC equal\n",
    "\n",
    "def extract_features(file_name):\n",
    "    \"\"\"\n",
    "    This function takes in the path for an audio file as a string, loads it, and returns the MFCC\n",
    "    of the audio\"\"\"\n",
    "   \n",
    "    try:\n",
    "        audio, sample_rate = librosa.load(file_name, res_type='kaiser_fast', duration=20) \n",
    "        b, a = signal.butter(6, [100/sample_rate,5000/sample_rate], 'bandpass', analog=False)\n",
    "        f = signal.filtfilt(b, a, audio)\n",
    "        mfccs = librosa.feature.mfcc(y=f, sr=sample_rate, n_mfcc=40)\n",
    "        pad_width = max_pad_len - mfccs.shape[1]\n",
    "        mfccs = np.pad(mfccs, pad_width=((0, 0), (0, pad_width)), mode='constant')\n",
    "        \n",
    "    except Exception as e:\n",
    "        print(\"Error encountered while parsing file: \", file_name)\n",
    "        return None \n",
    "     \n",
    "    return mfccs"
   ]
  },
  {
   "cell_type": "code",
   "execution_count": 9,
   "metadata": {},
   "outputs": [],
   "source": [
    "filepaths = [join(mypath, f) for f in filenames] # full paths of files"
   ]
  },
  {
   "cell_type": "code",
   "execution_count": 10,
   "metadata": {},
   "outputs": [],
   "source": [
    "p_diag = pd.read_csv('/Users/ad/Downloads/FYP/patient_diagnosis.csv',header=None) # patient diagnosis file"
   ]
  },
  {
   "cell_type": "code",
   "execution_count": 11,
   "metadata": {},
   "outputs": [],
   "source": [
    "labels = np.array([p_diag[p_diag[0] == x][1].values[0] for x in p_id_in_file]) # labels for audio files"
   ]
  },
  {
   "cell_type": "markdown",
   "metadata": {},
   "source": [
    "# Extracting Features"
   ]
  },
  {
   "cell_type": "code",
   "execution_count": 12,
   "metadata": {},
   "outputs": [
    {
     "name": "stdout",
     "output_type": "stream",
     "text": [
      "Finished feature extraction from  920  original files\n"
     ]
    }
   ],
   "source": [
    "features = [] \n",
    "\n",
    "# Iterate through each sound file and extract the features\n",
    "for file_name in filepaths:\n",
    "    data = extract_features(file_name)\n",
    "    features.append(data)\n",
    "\n",
    "print('Finished feature extraction from ', len(features), ' original files')"
   ]
  },
  {
   "cell_type": "markdown",
   "metadata": {},
   "source": [
    "# Adding Augmented Files to data set"
   ]
  },
  {
   "cell_type": "code",
   "execution_count": 13,
   "metadata": {},
   "outputs": [
    {
     "name": "stdout",
     "output_type": "stream",
     "text": [
      "Finished feature extraction from  381 augmented files\n"
     ]
    }
   ],
   "source": [
    "labels=np.array(labels).tolist()\n",
    "for i in range (0,920):\n",
    "    if labels[i]!='COPD':\n",
    "        p=shift(filepaths[i], 2, 'right')\n",
    "        q=pitch(filepaths[i],2)\n",
    "        r=speed(filepaths[i],1.2)\n",
    "        features.append(p)\n",
    "        features.append(q)\n",
    "        features.append(r)\n",
    "        for j in range(0,3):\n",
    "            labels.append(labels[i])\n",
    "print('Finished feature extraction from ', len(features)-920, 'augmented files')"
   ]
  },
  {
   "cell_type": "code",
   "execution_count": 14,
   "metadata": {},
   "outputs": [],
   "source": [
    "features=np.array(features)\n",
    "labels=np.array(labels)"
   ]
  },
  {
   "cell_type": "code",
   "execution_count": 15,
   "metadata": {},
   "outputs": [
    {
     "data": {
      "image/png": "[encoded data removed]",
      "text/plain": [
       "<Figure size 720x288 with 2 Axes>"
      ]
     },
     "metadata": {
      "needs_background": "light"
     },
     "output_type": "display_data"
    }
   ],
   "source": [
    "#plot an MFCC\n",
    "plt.figure(figsize=(10, 4))\n",
    "librosa.display.specshow(features[100], x_axis='time')\n",
    "plt.colorbar()\n",
    "plt.title('MFCC')\n",
    "plt.tight_layout()\n",
    "plt.show()"
   ]
  },
  {
   "cell_type": "code",
   "execution_count": 16,
   "metadata": {},
   "outputs": [
    {
     "name": "stdout",
     "output_type": "stream",
     "text": [
      "[['Asthma' 'Bronchiectasis' 'Bronchiolitis' 'COPD' 'Healthy' 'LRTI'\n",
      "  'Pneumonia' 'URTI']\n",
      " ['4' '64' '52' '793' '140' '8' '148' '92']]\n"
     ]
    }
   ],
   "source": [
    "# print class counts\n",
    "unique_elements, counts_elements = np.unique(labels, return_counts=True)\n",
    "print(np.asarray((unique_elements, counts_elements)))"
   ]
  },
  {
   "cell_type": "code",
   "execution_count": 17,
   "metadata": {},
   "outputs": [
    {
     "data": {
      "image/png": "[encoded data removed]",
      "text/plain": [
       "<Figure size 864x576 with 1 Axes>"
      ]
     },
     "metadata": {
      "needs_background": "light"
     },
     "output_type": "display_data"
    }
   ],
   "source": [
    "# plot class counts\n",
    "y_pos = np.arange(len(unique_elements))\n",
    "plt.figure(figsize=(12,8))\n",
    "plt.bar(unique_elements, counts_elements, align='center', alpha=0.5)\n",
    "plt.xticks(y_pos, unique_elements)\n",
    "plt.ylabel('Count')\n",
    "plt.xlabel('Disease')\n",
    "plt.title('Disease Count in Sound Files')\n",
    "plt.show()"
   ]
  },
  {
   "cell_type": "markdown",
   "metadata": {},
   "source": [
    "# Remove the data with least cases"
   ]
  },
  {
   "cell_type": "code",
   "execution_count": 18,
   "metadata": {},
   "outputs": [],
   "source": [
    "features1 = np.delete(features, np.where((labels == 'Asthma') | (labels == 'LRTI'))[0], axis=0) \n",
    "\n",
    "labels1 = np.delete(labels, np.where((labels == 'Asthma') | (labels == 'LRTI'))[0], axis=0)"
   ]
  },
  {
   "cell_type": "markdown",
   "metadata": {},
   "source": [
    "# Designing Neural Network"
   ]
  },
  {
   "cell_type": "code",
   "execution_count": 19,
   "metadata": {},
   "outputs": [],
   "source": [
    "# One-hot encode labels\n",
    "le = LabelEncoder()\n",
    "i_labels = le.fit_transform(labels1)\n",
    "i_labels=np.array(i_labels).tolist()\n"
   ]
  },
  {
   "cell_type": "code",
   "execution_count": 20,
   "metadata": {},
   "outputs": [],
   "source": [
    "for i in range(0,1289):\n",
    "    if i_labels[i] ==2:\n",
    "        i_labels[i]= 0\n",
    "    elif i_labels[i]==3:\n",
    "        i_labels[i]= 1\n",
    "    else:\n",
    "        i_labels[i]=2\n"
   ]
  },
  {
   "cell_type": "code",
   "execution_count": 21,
   "metadata": {},
   "outputs": [],
   "source": [
    "i_labels=np.array(i_labels)\n",
    "oh_labels = to_categorical(i_labels)"
   ]
  },
  {
   "cell_type": "code",
   "execution_count": 22,
   "metadata": {},
   "outputs": [],
   "source": [
    "# add channel dimension for CNN\n",
    "features1 = np.reshape(features1, (*features1.shape,1))"
   ]
  },
  {
   "cell_type": "code",
   "execution_count": 23,
   "metadata": {},
   "outputs": [],
   "source": [
    "# train test split\n",
    "x_train, x_test, y_train, y_test = train_test_split(features1, oh_labels, stratify=oh_labels, \n",
    "                                                    test_size=0.2, random_state = 42)"
   ]
  },
  {
   "cell_type": "code",
   "execution_count": 24,
   "metadata": {},
   "outputs": [],
   "source": [
    "num_rows = 40\n",
    "num_columns = 862\n",
    "num_channels = 1\n",
    "\n",
    "num_labels = oh_labels.shape[1]\n",
    "filter_size = 2\n",
    "\n",
    "# Construct model \n",
    "model = Sequential()\n",
    "model.add(Conv2D(filters=64, kernel_size=filter_size,\n",
    "                 input_shape=(num_rows, num_columns, num_channels), activation='relu'))\n",
    "model.add(MaxPooling2D(pool_size=2))\n",
    "model.add(Dropout(0.2))\n",
    "\n",
    "model.add(Conv2D(filters=64, kernel_size=filter_size, activation='relu'))\n",
    "model.add(MaxPooling2D(pool_size=2))\n",
    "model.add(Dropout(0.2))\n",
    "\n",
    "model.add(Conv2D(filters=96, kernel_size=filter_size, activation='relu'))\n",
    "model.add(MaxPooling2D(pool_size=2))\n",
    "model.add(Dropout(0.2))\n",
    "\n",
    "model.add(Conv2D(filters=96, kernel_size=filter_size, activation='relu'))\n",
    "model.add(MaxPooling2D(pool_size=2))\n",
    "model.add(Dropout(0.2))\n",
    "\n",
    "model.add(GlobalAveragePooling2D())\n",
    "model.add(Dense(256))\n",
    "model.add(Dropout(0.6))\n",
    "model.add(Dense(128))\n",
    "model.add(Dropout(0.3))\n",
    "model.add(Dense(64))\n",
    "model.add(Dropout(0.15))\n",
    "model.add(Dense(32))\n",
    "model.add(Dropout(0.075))\n",
    "\n",
    "model.add(Dense(num_labels, activation='softmax'))"
   ]
  },
  {
   "cell_type": "code",
   "execution_count": 25,
   "metadata": {},
   "outputs": [],
   "source": [
    "# Compile the model\n",
    "model.compile(loss='categorical_crossentropy', metrics=['accuracy'], optimizer='adam')"
   ]
  },
  {
   "cell_type": "code",
   "execution_count": 26,
   "metadata": {},
   "outputs": [
    {
     "name": "stdout",
     "output_type": "stream",
     "text": [
      "Model: \"sequential\"\n",
      "_________________________________________________________________\n",
      "Layer (type)                 Output Shape              Param #   \n",
      "=================================================================\n",
      "conv2d (Conv2D)              (None, 39, 861, 64)       320       \n",
      "_________________________________________________________________\n",
      "max_pooling2d (MaxPooling2D) (None, 19, 430, 64)       0         \n",
      "_________________________________________________________________\n",
      "dropout (Dropout)            (None, 19, 430, 64)       0         \n",
      "_________________________________________________________________\n",
      "conv2d_1 (Conv2D)            (None, 18, 429, 64)       16448     \n",
      "_________________________________________________________________\n",
      "max_pooling2d_1 (MaxPooling2 (None, 9, 214, 64)        0         \n",
      "_________________________________________________________________\n",
      "dropout_1 (Dropout)          (None, 9, 214, 64)        0         \n",
      "_________________________________________________________________\n",
      "conv2d_2 (Conv2D)            (None, 8, 213, 96)        24672     \n",
      "_________________________________________________________________\n",
      "max_pooling2d_2 (MaxPooling2 (None, 4, 106, 96)        0         \n",
      "_________________________________________________________________\n",
      "dropout_2 (Dropout)          (None, 4, 106, 96)        0         \n",
      "_________________________________________________________________\n",
      "conv2d_3 (Conv2D)            (None, 3, 105, 96)        36960     \n",
      "_________________________________________________________________\n",
      "max_pooling2d_3 (MaxPooling2 (None, 1, 52, 96)         0         \n",
      "_________________________________________________________________\n",
      "dropout_3 (Dropout)          (None, 1, 52, 96)         0         \n",
      "_________________________________________________________________\n",
      "global_average_pooling2d (Gl (None, 96)                0         \n",
      "_________________________________________________________________\n",
      "dense (Dense)                (None, 256)               24832     \n",
      "_________________________________________________________________\n",
      "dropout_4 (Dropout)          (None, 256)               0         \n",
      "_________________________________________________________________\n",
      "dense_1 (Dense)              (None, 128)               32896     \n",
      "_________________________________________________________________\n",
      "dropout_5 (Dropout)          (None, 128)               0         \n",
      "_________________________________________________________________\n",
      "dense_2 (Dense)              (None, 64)                8256      \n",
      "_________________________________________________________________\n",
      "dropout_6 (Dropout)          (None, 64)                0         \n",
      "_________________________________________________________________\n",
      "dense_3 (Dense)              (None, 32)                2080      \n",
      "_________________________________________________________________\n",
      "dropout_7 (Dropout)          (None, 32)                0         \n",
      "_________________________________________________________________\n",
      "dense_4 (Dense)              (None, 3)                 99        \n",
      "=================================================================\n",
      "Total params: 146,563\n",
      "Trainable params: 146,563\n",
      "Non-trainable params: 0\n",
      "_________________________________________________________________\n",
      "9/9 [==============================] - 1s 118ms/step - loss: 2.5638 - accuracy: 0.1076\n",
      "Pre-training accuracy: 10.8527%\n"
     ]
    }
   ],
   "source": [
    "# Display model architecture summary \n",
    "model.summary()\n",
    "\n",
    "# Calculate pre-training accuracy \n",
    "score = model.evaluate(x_test, y_test, verbose=1)\n",
    "accuracy = 100*score[1]\n",
    "\n",
    "print(\"Pre-training accuracy: %.4f%%\" % accuracy)"
   ]
  },
  {
   "cell_type": "markdown",
   "metadata": {},
   "source": [
    "# Training the model"
   ]
  },
  {
   "cell_type": "code",
   "execution_count": 27,
   "metadata": {},
   "outputs": [
    {
     "name": "stdout",
     "output_type": "stream",
     "text": [
      "Epoch 1/120\n",
      "9/9 [==============================] - 23s 2s/step - loss: 9.9574 - accuracy: 0.4743 - val_loss: 0.9452 - val_accuracy: 0.5853\n",
      "\n",
      "Epoch 00001: val_accuracy improved from -inf to 0.58527, saving model to mymodel2_01.h5\n",
      "Epoch 2/120\n",
      "9/9 [==============================] - 21s 2s/step - loss: 1.3966 - accuracy: 0.5626 - val_loss: 0.8743 - val_accuracy: 0.6163\n",
      "\n",
      "Epoch 00002: val_accuracy improved from 0.58527 to 0.61628, saving model to mymodel2_02.h5\n",
      "Epoch 3/120\n",
      "9/9 [==============================] - 21s 2s/step - loss: 0.9147 - accuracy: 0.6217 - val_loss: 0.7984 - val_accuracy: 0.6163\n",
      "\n",
      "Epoch 00003: val_accuracy did not improve from 0.61628\n",
      "Epoch 4/120\n",
      "9/9 [==============================] - 21s 2s/step - loss: 0.7226 - accuracy: 0.6790 - val_loss: 0.7888 - val_accuracy: 0.7287\n",
      "\n",
      "Epoch 00004: val_accuracy improved from 0.61628 to 0.72868, saving model to mymodel2_04.h5\n",
      "Epoch 5/120\n",
      "9/9 [==============================] - 21s 2s/step - loss: 0.7074 - accuracy: 0.7061 - val_loss: 0.7016 - val_accuracy: 0.6163\n",
      "\n",
      "Epoch 00005: val_accuracy did not improve from 0.72868\n",
      "Epoch 6/120\n",
      "9/9 [==============================] - 22s 2s/step - loss: 0.6737 - accuracy: 0.6780 - val_loss: 0.7076 - val_accuracy: 0.6395\n",
      "\n",
      "Epoch 00006: val_accuracy did not improve from 0.72868\n",
      "Epoch 7/120\n",
      "9/9 [==============================] - 22s 2s/step - loss: 0.6316 - accuracy: 0.7090 - val_loss: 0.6393 - val_accuracy: 0.6357\n",
      "\n",
      "Epoch 00007: val_accuracy did not improve from 0.72868\n",
      "Epoch 8/120\n",
      "9/9 [==============================] - 22s 2s/step - loss: 0.6274 - accuracy: 0.7391 - val_loss: 0.6284 - val_accuracy: 0.6318\n",
      "\n",
      "Epoch 00008: val_accuracy did not improve from 0.72868\n",
      "Epoch 9/120\n",
      "9/9 [==============================] - 22s 2s/step - loss: 0.5749 - accuracy: 0.7595 - val_loss: 0.6110 - val_accuracy: 0.6357\n",
      "\n",
      "Epoch 00009: val_accuracy did not improve from 0.72868\n",
      "Epoch 10/120\n",
      "9/9 [==============================] - 22s 2s/step - loss: 0.5586 - accuracy: 0.7342 - val_loss: 0.5932 - val_accuracy: 0.6357\n",
      "\n",
      "Epoch 00010: val_accuracy did not improve from 0.72868\n",
      "Epoch 11/120\n",
      "9/9 [==============================] - 23s 3s/step - loss: 0.5416 - accuracy: 0.7604 - val_loss: 0.6071 - val_accuracy: 0.6318\n",
      "\n",
      "Epoch 00011: val_accuracy did not improve from 0.72868\n",
      "Epoch 12/120\n",
      "9/9 [==============================] - 22s 2s/step - loss: 0.5624 - accuracy: 0.7536 - val_loss: 0.5997 - val_accuracy: 0.6357\n",
      "\n",
      "Epoch 00012: val_accuracy did not improve from 0.72868\n",
      "Epoch 13/120\n",
      "9/9 [==============================] - 22s 2s/step - loss: 0.5293 - accuracy: 0.7459 - val_loss: 0.6054 - val_accuracy: 0.6899\n",
      "\n",
      "Epoch 00013: val_accuracy did not improve from 0.72868\n",
      "Epoch 14/120\n",
      "9/9 [==============================] - 22s 2s/step - loss: 0.5223 - accuracy: 0.7614 - val_loss: 0.5817 - val_accuracy: 0.6318\n",
      "\n",
      "Epoch 00014: val_accuracy did not improve from 0.72868\n",
      "Epoch 15/120\n",
      "9/9 [==============================] - 22s 2s/step - loss: 0.5189 - accuracy: 0.7517 - val_loss: 0.5579 - val_accuracy: 0.6705\n",
      "\n",
      "Epoch 00015: val_accuracy did not improve from 0.72868\n",
      "Epoch 16/120\n",
      "9/9 [==============================] - 23s 2s/step - loss: 0.4994 - accuracy: 0.7847 - val_loss: 0.5280 - val_accuracy: 0.7442\n",
      "\n",
      "Epoch 00016: val_accuracy improved from 0.72868 to 0.74419, saving model to mymodel2_16.h5\n",
      "Epoch 17/120\n",
      "9/9 [==============================] - 23s 3s/step - loss: 0.4986 - accuracy: 0.7827 - val_loss: 0.5192 - val_accuracy: 0.7791\n",
      "\n",
      "Epoch 00017: val_accuracy improved from 0.74419 to 0.77907, saving model to mymodel2_17.h5\n",
      "Epoch 18/120\n",
      "9/9 [==============================] - 22s 2s/step - loss: 0.4694 - accuracy: 0.7905 - val_loss: 0.5018 - val_accuracy: 0.7907\n",
      "\n",
      "Epoch 00018: val_accuracy improved from 0.77907 to 0.79070, saving model to mymodel2_18.h5\n",
      "Epoch 19/120\n",
      "9/9 [==============================] - 23s 3s/step - loss: 0.4697 - accuracy: 0.7934 - val_loss: 0.4807 - val_accuracy: 0.7791\n",
      "\n",
      "Epoch 00019: val_accuracy did not improve from 0.79070\n",
      "Epoch 20/120\n",
      "9/9 [==============================] - 23s 3s/step - loss: 0.4568 - accuracy: 0.7876 - val_loss: 0.4796 - val_accuracy: 0.7946\n",
      "\n",
      "Epoch 00020: val_accuracy improved from 0.79070 to 0.79457, saving model to mymodel2_20.h5\n",
      "Epoch 21/120\n",
      "9/9 [==============================] - 23s 3s/step - loss: 0.4733 - accuracy: 0.7963 - val_loss: 0.4893 - val_accuracy: 0.7636\n",
      "\n",
      "Epoch 00021: val_accuracy did not improve from 0.79457\n",
      "Epoch 22/120\n",
      "9/9 [==============================] - 23s 3s/step - loss: 0.4578 - accuracy: 0.7886 - val_loss: 0.4667 - val_accuracy: 0.8178\n",
      "\n",
      "Epoch 00022: val_accuracy improved from 0.79457 to 0.81783, saving model to mymodel2_22.h5\n",
      "Epoch 23/120\n",
      "9/9 [==============================] - 22s 2s/step - loss: 0.4362 - accuracy: 0.8099 - val_loss: 0.5619 - val_accuracy: 0.7054\n",
      "\n",
      "Epoch 00023: val_accuracy did not improve from 0.81783\n",
      "Epoch 24/120\n",
      "9/9 [==============================] - 24s 3s/step - loss: 0.4634 - accuracy: 0.7953 - val_loss: 0.6117 - val_accuracy: 0.6822\n",
      "\n",
      "Epoch 00024: val_accuracy did not improve from 0.81783\n",
      "Epoch 25/120\n",
      "9/9 [==============================] - 23s 3s/step - loss: 0.4677 - accuracy: 0.7866 - val_loss: 0.5352 - val_accuracy: 0.7132\n",
      "\n",
      "Epoch 00025: val_accuracy did not improve from 0.81783\n",
      "Epoch 26/120\n",
      "9/9 [==============================] - 23s 3s/step - loss: 0.4208 - accuracy: 0.8109 - val_loss: 0.5717 - val_accuracy: 0.7132\n",
      "\n",
      "Epoch 00026: val_accuracy did not improve from 0.81783\n",
      "Epoch 27/120\n",
      "9/9 [==============================] - 23s 2s/step - loss: 0.4248 - accuracy: 0.8031 - val_loss: 0.5047 - val_accuracy: 0.7364\n",
      "\n",
      "Epoch 00027: val_accuracy did not improve from 0.81783\n",
      "Epoch 28/120\n",
      "9/9 [==============================] - 23s 3s/step - loss: 0.4141 - accuracy: 0.8002 - val_loss: 0.4584 - val_accuracy: 0.7868\n",
      "\n",
      "Epoch 00028: val_accuracy did not improve from 0.81783\n",
      "Epoch 29/120\n",
      "9/9 [==============================] - 23s 3s/step - loss: 0.3923 - accuracy: 0.8312 - val_loss: 0.4878 - val_accuracy: 0.7442\n",
      "\n",
      "Epoch 00029: val_accuracy did not improve from 0.81783\n",
      "Epoch 30/120\n",
      "9/9 [==============================] - 22s 2s/step - loss: 0.4169 - accuracy: 0.8118 - val_loss: 0.4453 - val_accuracy: 0.7752\n",
      "\n",
      "Epoch 00030: val_accuracy did not improve from 0.81783\n",
      "Epoch 31/120\n",
      "9/9 [==============================] - 23s 3s/step - loss: 0.3984 - accuracy: 0.8244 - val_loss: 0.5598 - val_accuracy: 0.7248\n",
      "\n",
      "Epoch 00031: val_accuracy did not improve from 0.81783\n",
      "Epoch 32/120\n",
      "9/9 [==============================] - 23s 3s/step - loss: 0.4177 - accuracy: 0.8109 - val_loss: 0.5215 - val_accuracy: 0.7403\n",
      "\n",
      "Epoch 00032: val_accuracy did not improve from 0.81783\n",
      "Epoch 33/120\n",
      "9/9 [==============================] - 23s 3s/step - loss: 0.4135 - accuracy: 0.8147 - val_loss: 0.5002 - val_accuracy: 0.7403\n",
      "\n",
      "Epoch 00033: val_accuracy did not improve from 0.81783\n",
      "Epoch 34/120\n",
      "9/9 [==============================] - 24s 3s/step - loss: 0.3813 - accuracy: 0.8254 - val_loss: 0.4625 - val_accuracy: 0.7752\n",
      "\n",
      "Epoch 00034: val_accuracy did not improve from 0.81783\n",
      "Epoch 35/120\n",
      "9/9 [==============================] - 23s 3s/step - loss: 0.4123 - accuracy: 0.8070 - val_loss: 0.4423 - val_accuracy: 0.7907\n",
      "\n",
      "Epoch 00035: val_accuracy did not improve from 0.81783\n",
      "Epoch 36/120\n",
      "9/9 [==============================] - 22s 2s/step - loss: 0.4315 - accuracy: 0.8138 - val_loss: 0.4127 - val_accuracy: 0.8101\n",
      "\n",
      "Epoch 00036: val_accuracy did not improve from 0.81783\n",
      "Epoch 37/120\n",
      "9/9 [==============================] - 23s 3s/step - loss: 0.4242 - accuracy: 0.8128 - val_loss: 0.4422 - val_accuracy: 0.8411\n",
      "\n",
      "Epoch 00037: val_accuracy improved from 0.81783 to 0.84109, saving model to mymodel2_37.h5\n",
      "Epoch 38/120\n",
      "9/9 [==============================] - 22s 2s/step - loss: 0.4103 - accuracy: 0.8293 - val_loss: 0.4484 - val_accuracy: 0.7713\n",
      "\n",
      "Epoch 00038: val_accuracy did not improve from 0.84109\n",
      "Epoch 39/120\n",
      "9/9 [==============================] - 23s 3s/step - loss: 0.3851 - accuracy: 0.8215 - val_loss: 0.4325 - val_accuracy: 0.7868\n",
      "\n",
      "Epoch 00039: val_accuracy did not improve from 0.84109\n",
      "Epoch 40/120\n",
      "9/9 [==============================] - 23s 3s/step - loss: 0.3740 - accuracy: 0.8293 - val_loss: 0.4366 - val_accuracy: 0.7868\n",
      "\n",
      "Epoch 00040: val_accuracy did not improve from 0.84109\n",
      "Epoch 41/120\n"
     ]
    },
    {
     "name": "stdout",
     "output_type": "stream",
     "text": [
      "9/9 [==============================] - 23s 2s/step - loss: 0.3610 - accuracy: 0.8380 - val_loss: 0.4780 - val_accuracy: 0.7713\n",
      "\n",
      "Epoch 00041: val_accuracy did not improve from 0.84109\n",
      "Epoch 42/120\n",
      "9/9 [==============================] - 22s 2s/step - loss: 0.3546 - accuracy: 0.8409 - val_loss: 0.4385 - val_accuracy: 0.7946\n",
      "\n",
      "Epoch 00042: val_accuracy did not improve from 0.84109\n",
      "Epoch 43/120\n",
      "9/9 [==============================] - 22s 2s/step - loss: 0.3587 - accuracy: 0.8555 - val_loss: 0.4161 - val_accuracy: 0.7946\n",
      "\n",
      "Epoch 00043: val_accuracy did not improve from 0.84109\n",
      "Epoch 44/120\n",
      "9/9 [==============================] - 22s 2s/step - loss: 0.3517 - accuracy: 0.8371 - val_loss: 0.4373 - val_accuracy: 0.7984\n",
      "\n",
      "Epoch 00044: val_accuracy did not improve from 0.84109\n",
      "Epoch 45/120\n",
      "9/9 [==============================] - 23s 3s/step - loss: 0.3398 - accuracy: 0.8632 - val_loss: 0.5967 - val_accuracy: 0.7209\n",
      "\n",
      "Epoch 00045: val_accuracy did not improve from 0.84109\n",
      "Epoch 46/120\n",
      "9/9 [==============================] - 22s 2s/step - loss: 0.3537 - accuracy: 0.8419 - val_loss: 0.9660 - val_accuracy: 0.6667\n",
      "\n",
      "Epoch 00046: val_accuracy did not improve from 0.84109\n",
      "Epoch 47/120\n",
      "9/9 [==============================] - 22s 2s/step - loss: 0.4871 - accuracy: 0.7992 - val_loss: 0.4846 - val_accuracy: 0.7481\n",
      "\n",
      "Epoch 00047: val_accuracy did not improve from 0.84109\n",
      "Epoch 48/120\n",
      "9/9 [==============================] - 22s 2s/step - loss: 0.3747 - accuracy: 0.8351 - val_loss: 0.4571 - val_accuracy: 0.7907\n",
      "\n",
      "Epoch 00048: val_accuracy did not improve from 0.84109\n",
      "Epoch 49/120\n",
      "9/9 [==============================] - 23s 2s/step - loss: 0.3415 - accuracy: 0.8487 - val_loss: 0.3973 - val_accuracy: 0.8140\n",
      "\n",
      "Epoch 00049: val_accuracy did not improve from 0.84109\n",
      "Epoch 50/120\n",
      "9/9 [==============================] - 22s 2s/step - loss: 0.3501 - accuracy: 0.8332 - val_loss: 0.5950 - val_accuracy: 0.7403\n",
      "\n",
      "Epoch 00050: val_accuracy did not improve from 0.84109\n",
      "Epoch 51/120\n",
      "9/9 [==============================] - 22s 2s/step - loss: 0.3752 - accuracy: 0.8293 - val_loss: 0.3904 - val_accuracy: 0.8256\n",
      "\n",
      "Epoch 00051: val_accuracy did not improve from 0.84109\n",
      "Epoch 52/120\n",
      "9/9 [==============================] - 22s 2s/step - loss: 0.3813 - accuracy: 0.8099 - val_loss: 0.3851 - val_accuracy: 0.8217\n",
      "\n",
      "Epoch 00052: val_accuracy did not improve from 0.84109\n",
      "Epoch 53/120\n",
      "9/9 [==============================] - 22s 2s/step - loss: 0.3348 - accuracy: 0.8584 - val_loss: 0.3969 - val_accuracy: 0.8217\n",
      "\n",
      "Epoch 00053: val_accuracy did not improve from 0.84109\n",
      "Epoch 54/120\n",
      "9/9 [==============================] - 21s 2s/step - loss: 0.3557 - accuracy: 0.8400 - val_loss: 0.3579 - val_accuracy: 0.8372\n",
      "\n",
      "Epoch 00054: val_accuracy did not improve from 0.84109\n",
      "Epoch 55/120\n",
      "9/9 [==============================] - 22s 2s/step - loss: 0.3345 - accuracy: 0.8438 - val_loss: 0.3821 - val_accuracy: 0.8256\n",
      "\n",
      "Epoch 00055: val_accuracy did not improve from 0.84109\n",
      "Epoch 56/120\n",
      "9/9 [==============================] - 22s 2s/step - loss: 0.3665 - accuracy: 0.8341 - val_loss: 0.3988 - val_accuracy: 0.8101\n",
      "\n",
      "Epoch 00056: val_accuracy did not improve from 0.84109\n",
      "Epoch 57/120\n",
      "9/9 [==============================] - 22s 2s/step - loss: 0.3417 - accuracy: 0.8555 - val_loss: 0.3586 - val_accuracy: 0.8256\n",
      "\n",
      "Epoch 00057: val_accuracy did not improve from 0.84109\n",
      "Epoch 58/120\n",
      "9/9 [==============================] - 22s 2s/step - loss: 0.3422 - accuracy: 0.8526 - val_loss: 0.3949 - val_accuracy: 0.8333\n",
      "\n",
      "Epoch 00058: val_accuracy did not improve from 0.84109\n",
      "Epoch 59/120\n",
      "9/9 [==============================] - 22s 2s/step - loss: 0.3036 - accuracy: 0.8603 - val_loss: 0.3264 - val_accuracy: 0.8605\n",
      "\n",
      "Epoch 00059: val_accuracy improved from 0.84109 to 0.86047, saving model to mymodel2_59.h5\n",
      "Epoch 60/120\n",
      "9/9 [==============================] - 21s 2s/step - loss: 0.3112 - accuracy: 0.8652 - val_loss: 0.3185 - val_accuracy: 0.8527\n",
      "\n",
      "Epoch 00060: val_accuracy did not improve from 0.86047\n",
      "Epoch 61/120\n",
      "9/9 [==============================] - 22s 2s/step - loss: 0.3295 - accuracy: 0.8632 - val_loss: 0.3372 - val_accuracy: 0.8372\n",
      "\n",
      "Epoch 00061: val_accuracy did not improve from 0.86047\n",
      "Epoch 62/120\n",
      "9/9 [==============================] - 22s 2s/step - loss: 0.3753 - accuracy: 0.8429 - val_loss: 0.3514 - val_accuracy: 0.8643\n",
      "\n",
      "Epoch 00062: val_accuracy improved from 0.86047 to 0.86434, saving model to mymodel2_62.h5\n",
      "Epoch 63/120\n",
      "9/9 [==============================] - 21s 2s/step - loss: 0.3827 - accuracy: 0.8361 - val_loss: 0.3681 - val_accuracy: 0.8411\n",
      "\n",
      "Epoch 00063: val_accuracy did not improve from 0.86434\n",
      "Epoch 64/120\n",
      "9/9 [==============================] - 22s 2s/step - loss: 0.3162 - accuracy: 0.8691 - val_loss: 0.4223 - val_accuracy: 0.8140\n",
      "\n",
      "Epoch 00064: val_accuracy did not improve from 0.86434\n",
      "Epoch 65/120\n",
      "9/9 [==============================] - 21s 2s/step - loss: 0.3416 - accuracy: 0.8545 - val_loss: 0.7147 - val_accuracy: 0.7713\n",
      "\n",
      "Epoch 00065: val_accuracy did not improve from 0.86434\n",
      "Epoch 66/120\n",
      "9/9 [==============================] - 22s 2s/step - loss: 0.3409 - accuracy: 0.8545 - val_loss: 0.3855 - val_accuracy: 0.8178\n",
      "\n",
      "Epoch 00066: val_accuracy did not improve from 0.86434\n",
      "Epoch 67/120\n",
      "9/9 [==============================] - 21s 2s/step - loss: 0.3367 - accuracy: 0.8477 - val_loss: 0.3279 - val_accuracy: 0.8682\n",
      "\n",
      "Epoch 00067: val_accuracy improved from 0.86434 to 0.86822, saving model to mymodel2_67.h5\n",
      "Epoch 68/120\n",
      "9/9 [==============================] - 22s 2s/step - loss: 0.3126 - accuracy: 0.8594 - val_loss: 0.3477 - val_accuracy: 0.8488\n",
      "\n",
      "Epoch 00068: val_accuracy did not improve from 0.86822\n",
      "Epoch 69/120\n",
      "9/9 [==============================] - 22s 2s/step - loss: 0.2984 - accuracy: 0.8700 - val_loss: 0.3417 - val_accuracy: 0.8488\n",
      "\n",
      "Epoch 00069: val_accuracy did not improve from 0.86822\n",
      "Epoch 70/120\n",
      "9/9 [==============================] - 21s 2s/step - loss: 0.3075 - accuracy: 0.8565 - val_loss: 0.3351 - val_accuracy: 0.8527\n",
      "\n",
      "Epoch 00070: val_accuracy did not improve from 0.86822\n",
      "Epoch 71/120\n",
      "9/9 [==============================] - 22s 2s/step - loss: 0.2904 - accuracy: 0.8700 - val_loss: 0.3599 - val_accuracy: 0.8527\n",
      "\n",
      "Epoch 00071: val_accuracy did not improve from 0.86822\n",
      "Epoch 72/120\n",
      "9/9 [==============================] - 22s 2s/step - loss: 0.2669 - accuracy: 0.8817 - val_loss: 0.4615 - val_accuracy: 0.8062\n",
      "\n",
      "Epoch 00072: val_accuracy did not improve from 0.86822\n",
      "Epoch 73/120\n",
      "9/9 [==============================] - 22s 2s/step - loss: 0.3229 - accuracy: 0.8671 - val_loss: 0.3743 - val_accuracy: 0.8178\n",
      "\n",
      "Epoch 00073: val_accuracy did not improve from 0.86822\n",
      "Epoch 74/120\n",
      "9/9 [==============================] - 21s 2s/step - loss: 0.3000 - accuracy: 0.8555 - val_loss: 0.3688 - val_accuracy: 0.8450\n",
      "\n",
      "Epoch 00074: val_accuracy did not improve from 0.86822\n",
      "Epoch 75/120\n",
      "9/9 [==============================] - 22s 2s/step - loss: 0.3022 - accuracy: 0.8632 - val_loss: 0.3702 - val_accuracy: 0.8372\n",
      "\n",
      "Epoch 00075: val_accuracy did not improve from 0.86822\n",
      "Epoch 76/120\n",
      "9/9 [==============================] - 21s 2s/step - loss: 0.2887 - accuracy: 0.8768 - val_loss: 0.3321 - val_accuracy: 0.8411\n",
      "\n",
      "Epoch 00076: val_accuracy did not improve from 0.86822\n",
      "Epoch 77/120\n",
      "9/9 [==============================] - 22s 2s/step - loss: 0.2739 - accuracy: 0.8836 - val_loss: 0.3028 - val_accuracy: 0.8798\n",
      "\n",
      "Epoch 00077: val_accuracy improved from 0.86822 to 0.87984, saving model to mymodel2_77.h5\n",
      "Epoch 78/120\n",
      "9/9 [==============================] - 21s 2s/step - loss: 0.2553 - accuracy: 0.8914 - val_loss: 0.3028 - val_accuracy: 0.8682\n",
      "\n",
      "Epoch 00078: val_accuracy did not improve from 0.87984\n",
      "Epoch 79/120\n",
      "9/9 [==============================] - 22s 2s/step - loss: 0.2629 - accuracy: 0.8933 - val_loss: 0.2950 - val_accuracy: 0.8682\n",
      "\n",
      "Epoch 00079: val_accuracy did not improve from 0.87984\n",
      "Epoch 80/120\n",
      "9/9 [==============================] - 21s 2s/step - loss: 0.2694 - accuracy: 0.8817 - val_loss: 0.3860 - val_accuracy: 0.8217\n",
      "\n",
      "Epoch 00080: val_accuracy did not improve from 0.87984\n",
      "Epoch 81/120\n",
      "9/9 [==============================] - 22s 2s/step - loss: 0.2623 - accuracy: 0.8855 - val_loss: 0.2487 - val_accuracy: 0.8837\n",
      "\n",
      "Epoch 00081: val_accuracy improved from 0.87984 to 0.88372, saving model to mymodel2_81.h5\n",
      "Epoch 82/120\n"
     ]
    },
    {
     "name": "stdout",
     "output_type": "stream",
     "text": [
      "9/9 [==============================] - 22s 2s/step - loss: 0.2606 - accuracy: 0.8933 - val_loss: 0.2878 - val_accuracy: 0.8953\n",
      "\n",
      "Epoch 00082: val_accuracy improved from 0.88372 to 0.89535, saving model to mymodel2_82.h5\n",
      "Epoch 83/120\n",
      "9/9 [==============================] - 21s 2s/step - loss: 0.2328 - accuracy: 0.9011 - val_loss: 0.2915 - val_accuracy: 0.8721\n",
      "\n",
      "Epoch 00083: val_accuracy did not improve from 0.89535\n",
      "Epoch 84/120\n",
      "9/9 [==============================] - 22s 2s/step - loss: 0.2392 - accuracy: 0.9001 - val_loss: 0.3134 - val_accuracy: 0.8488\n",
      "\n",
      "Epoch 00084: val_accuracy did not improve from 0.89535\n",
      "Epoch 85/120\n",
      "9/9 [==============================] - 22s 2s/step - loss: 0.2339 - accuracy: 0.8972 - val_loss: 0.2570 - val_accuracy: 0.8992\n",
      "\n",
      "Epoch 00085: val_accuracy improved from 0.89535 to 0.89922, saving model to mymodel2_85.h5\n",
      "Epoch 86/120\n",
      "9/9 [==============================] - 21s 2s/step - loss: 0.2394 - accuracy: 0.9069 - val_loss: 0.2814 - val_accuracy: 0.8953\n",
      "\n",
      "Epoch 00086: val_accuracy did not improve from 0.89922\n",
      "Epoch 87/120\n",
      "9/9 [==============================] - 20s 2s/step - loss: 0.2180 - accuracy: 0.9088 - val_loss: 0.2976 - val_accuracy: 0.8721\n",
      "\n",
      "Epoch 00087: val_accuracy did not improve from 0.89922\n",
      "Epoch 88/120\n",
      "9/9 [==============================] - 21s 2s/step - loss: 0.2188 - accuracy: 0.9098 - val_loss: 0.8560 - val_accuracy: 0.7442\n",
      "\n",
      "Epoch 00088: val_accuracy did not improve from 0.89922\n",
      "Epoch 89/120\n",
      "9/9 [==============================] - 22s 2s/step - loss: 0.4924 - accuracy: 0.8070 - val_loss: 0.3137 - val_accuracy: 0.8566\n",
      "\n",
      "Epoch 00089: val_accuracy did not improve from 0.89922\n",
      "Epoch 90/120\n",
      "9/9 [==============================] - 22s 2s/step - loss: 0.3821 - accuracy: 0.8487 - val_loss: 0.4112 - val_accuracy: 0.8023\n",
      "\n",
      "Epoch 00090: val_accuracy did not improve from 0.89922\n",
      "Epoch 91/120\n",
      "9/9 [==============================] - 21s 2s/step - loss: 0.3305 - accuracy: 0.8623 - val_loss: 0.3310 - val_accuracy: 0.8450\n",
      "\n",
      "Epoch 00091: val_accuracy did not improve from 0.89922\n",
      "Epoch 92/120\n",
      "9/9 [==============================] - 22s 2s/step - loss: 0.2814 - accuracy: 0.8817 - val_loss: 0.3393 - val_accuracy: 0.8333\n",
      "\n",
      "Epoch 00092: val_accuracy did not improve from 0.89922\n",
      "Epoch 93/120\n",
      "9/9 [==============================] - 21s 2s/step - loss: 0.2588 - accuracy: 0.8904 - val_loss: 0.3590 - val_accuracy: 0.8411\n",
      "\n",
      "Epoch 00093: val_accuracy did not improve from 0.89922\n",
      "Epoch 94/120\n",
      "9/9 [==============================] - 21s 2s/step - loss: 0.2606 - accuracy: 0.8894 - val_loss: 0.4719 - val_accuracy: 0.7907\n",
      "\n",
      "Epoch 00094: val_accuracy did not improve from 0.89922\n",
      "Epoch 95/120\n",
      "9/9 [==============================] - 22s 2s/step - loss: 0.2885 - accuracy: 0.8661 - val_loss: 0.3152 - val_accuracy: 0.8682\n",
      "\n",
      "Epoch 00095: val_accuracy did not improve from 0.89922\n",
      "Epoch 96/120\n",
      "9/9 [==============================] - 21s 2s/step - loss: 0.2897 - accuracy: 0.8691 - val_loss: 0.2596 - val_accuracy: 0.8798\n",
      "\n",
      "Epoch 00096: val_accuracy did not improve from 0.89922\n",
      "Epoch 97/120\n",
      "9/9 [==============================] - 22s 2s/step - loss: 0.2501 - accuracy: 0.8923 - val_loss: 0.3079 - val_accuracy: 0.8605\n",
      "\n",
      "Epoch 00097: val_accuracy did not improve from 0.89922\n",
      "Epoch 98/120\n",
      "9/9 [==============================] - 21s 2s/step - loss: 0.2428 - accuracy: 0.8923 - val_loss: 0.2444 - val_accuracy: 0.9109\n",
      "\n",
      "Epoch 00098: val_accuracy improved from 0.89922 to 0.91085, saving model to mymodel2_98.h5\n",
      "Epoch 99/120\n",
      "9/9 [==============================] - 27s 3s/step - loss: 0.2313 - accuracy: 0.9030 - val_loss: 0.2657 - val_accuracy: 0.8798\n",
      "\n",
      "Epoch 00099: val_accuracy did not improve from 0.91085\n",
      "Epoch 100/120\n",
      "9/9 [==============================] - 21s 2s/step - loss: 0.2223 - accuracy: 0.9088 - val_loss: 0.2113 - val_accuracy: 0.9109\n",
      "\n",
      "Epoch 00100: val_accuracy did not improve from 0.91085\n",
      "Epoch 101/120\n",
      "9/9 [==============================] - 22s 2s/step - loss: 0.2248 - accuracy: 0.9049 - val_loss: 0.2803 - val_accuracy: 0.8721\n",
      "\n",
      "Epoch 00101: val_accuracy did not improve from 0.91085\n",
      "Epoch 102/120\n",
      "9/9 [==============================] - 22s 2s/step - loss: 0.2499 - accuracy: 0.9001 - val_loss: 0.3032 - val_accuracy: 0.8527\n",
      "\n",
      "Epoch 00102: val_accuracy did not improve from 0.91085\n",
      "Epoch 103/120\n",
      "9/9 [==============================] - 21s 2s/step - loss: 0.2204 - accuracy: 0.9079 - val_loss: 0.3056 - val_accuracy: 0.8566\n",
      "\n",
      "Epoch 00103: val_accuracy did not improve from 0.91085\n",
      "Epoch 104/120\n",
      "9/9 [==============================] - 22s 2s/step - loss: 0.2278 - accuracy: 0.9011 - val_loss: 0.2368 - val_accuracy: 0.8876\n",
      "\n",
      "Epoch 00104: val_accuracy did not improve from 0.91085\n",
      "Epoch 105/120\n",
      "9/9 [==============================] - 21s 2s/step - loss: 0.2160 - accuracy: 0.9030 - val_loss: 0.2471 - val_accuracy: 0.8992\n",
      "\n",
      "Epoch 00105: val_accuracy did not improve from 0.91085\n",
      "Epoch 106/120\n",
      "9/9 [==============================] - 21s 2s/step - loss: 0.2088 - accuracy: 0.9098 - val_loss: 0.2807 - val_accuracy: 0.8643\n",
      "\n",
      "Epoch 00106: val_accuracy did not improve from 0.91085\n",
      "Epoch 107/120\n",
      "9/9 [==============================] - 22s 2s/step - loss: 0.2117 - accuracy: 0.9108 - val_loss: 0.2350 - val_accuracy: 0.8953\n",
      "\n",
      "Epoch 00107: val_accuracy did not improve from 0.91085\n",
      "Epoch 108/120\n",
      "9/9 [==============================] - 21s 2s/step - loss: 0.1983 - accuracy: 0.9146 - val_loss: 0.2632 - val_accuracy: 0.8876\n",
      "\n",
      "Epoch 00108: val_accuracy did not improve from 0.91085\n",
      "Epoch 109/120\n",
      "9/9 [==============================] - 21s 2s/step - loss: 0.2022 - accuracy: 0.9117 - val_loss: 0.2055 - val_accuracy: 0.9147\n",
      "\n",
      "Epoch 00109: val_accuracy improved from 0.91085 to 0.91473, saving model to mymodel2_109.h5\n",
      "Epoch 110/120\n",
      "9/9 [==============================] - 22s 2s/step - loss: 0.1886 - accuracy: 0.9234 - val_loss: 0.2937 - val_accuracy: 0.8605\n",
      "\n",
      "Epoch 00110: val_accuracy did not improve from 0.91473\n",
      "Epoch 111/120\n",
      "9/9 [==============================] - 21s 2s/step - loss: 0.1856 - accuracy: 0.9185 - val_loss: 0.2733 - val_accuracy: 0.8837\n",
      "\n",
      "Epoch 00111: val_accuracy did not improve from 0.91473\n",
      "Epoch 112/120\n",
      "9/9 [==============================] - 22s 2s/step - loss: 0.2082 - accuracy: 0.9098 - val_loss: 0.3324 - val_accuracy: 0.8566\n",
      "\n",
      "Epoch 00112: val_accuracy did not improve from 0.91473\n",
      "Epoch 113/120\n",
      "9/9 [==============================] - 22s 2s/step - loss: 0.2040 - accuracy: 0.9098 - val_loss: 0.2472 - val_accuracy: 0.8760\n",
      "\n",
      "Epoch 00113: val_accuracy did not improve from 0.91473\n",
      "Epoch 114/120\n",
      "9/9 [==============================] - 22s 2s/step - loss: 0.1986 - accuracy: 0.9137 - val_loss: 0.2311 - val_accuracy: 0.9147\n",
      "\n",
      "Epoch 00114: val_accuracy did not improve from 0.91473\n",
      "Epoch 115/120\n",
      "9/9 [==============================] - 21s 2s/step - loss: 0.1708 - accuracy: 0.9302 - val_loss: 0.2014 - val_accuracy: 0.9070\n",
      "\n",
      "Epoch 00115: val_accuracy did not improve from 0.91473\n",
      "Epoch 116/120\n",
      "9/9 [==============================] - 21s 2s/step - loss: 0.1675 - accuracy: 0.9292 - val_loss: 0.2065 - val_accuracy: 0.9186\n",
      "\n",
      "Epoch 00116: val_accuracy improved from 0.91473 to 0.91860, saving model to mymodel2_116.h5\n",
      "Epoch 117/120\n",
      "9/9 [==============================] - 22s 2s/step - loss: 0.1796 - accuracy: 0.9205 - val_loss: 0.2822 - val_accuracy: 0.8798\n",
      "\n",
      "Epoch 00117: val_accuracy did not improve from 0.91860\n",
      "Epoch 118/120\n",
      "9/9 [==============================] - 20s 2s/step - loss: 0.2320 - accuracy: 0.9040 - val_loss: 0.2471 - val_accuracy: 0.9031\n",
      "\n",
      "Epoch 00118: val_accuracy did not improve from 0.91860\n",
      "Epoch 119/120\n",
      "9/9 [==============================] - 22s 2s/step - loss: 0.2186 - accuracy: 0.9049 - val_loss: 0.3012 - val_accuracy: 0.8605\n",
      "\n",
      "Epoch 00119: val_accuracy did not improve from 0.91860\n",
      "Epoch 120/120\n",
      "9/9 [==============================] - 22s 2s/step - loss: 0.2013 - accuracy: 0.9224 - val_loss: 0.2744 - val_accuracy: 0.8798\n",
      "\n",
      "Epoch 00120: val_accuracy did not improve from 0.91860\n",
      "Training completed in time:  0:43:58.143044\n"
     ]
    }
   ],
   "source": [
    "# train model\n",
    "num_epochs = 120\n",
    "num_batch_size = 128\n",
    "\n",
    "callbacks = [\n",
    "    ModelCheckpoint(\n",
    "        filepath='mymodel2_{epoch:02d}.h5',\n",
    "        # Path where to save the model\n",
    "        # The two parameters below mean that we will overwrite\n",
    "        # the current checkpoint if and only if\n",
    "        # the `val_accuracy` score has improved.\n",
    "        save_best_only=True,\n",
    "        monitor='val_accuracy',\n",
    "        verbose=1)\n",
    "]\n",
    "start = datetime.now()\n",
    "\n",
    "history=model.fit(x_train, y_train, batch_size=num_batch_size, epochs=num_epochs,\n",
    "          validation_data=(x_test, y_test), callbacks=callbacks, verbose=1)\n",
    "\n",
    "\n",
    "duration = datetime.now() - start\n",
    "print(\"Training completed in time: \", duration)\n"
   ]
  },
  {
   "cell_type": "code",
   "execution_count": 28,
   "metadata": {},
   "outputs": [
    {
     "name": "stdout",
     "output_type": "stream",
     "text": [
      "Training Accuracy:  0.9253152012825012\n",
      "Testing Accuracy:  0.8798449635505676\n"
     ]
    }
   ],
   "source": [
    "# Evaluating the model on the training and testing set\n",
    "score = model.evaluate(x_train, y_train, verbose=0)\n",
    "print(\"Training Accuracy: \", score[1])\n",
    "\n",
    "score = model.evaluate(x_test, y_test, verbose=0)\n",
    "print(\"Testing Accuracy: \", score[1])"
   ]
  },
  {
   "cell_type": "code",
   "execution_count": 29,
   "metadata": {},
   "outputs": [],
   "source": [
    "preds = model.predict(x_test) # label scores \n",
    "\n",
    "classpreds = np.argmax(preds, axis=1) # predicted classes \n",
    "\n",
    "y_testclass = np.argmax(y_test, axis=1) # true classes\n",
    "\n",
    "n_classes=3 # number of classes"
   ]
  },
  {
   "cell_type": "markdown",
   "metadata": {},
   "source": [
    "# Summarize History for Loss"
   ]
  },
  {
   "cell_type": "code",
   "execution_count": 30,
   "metadata": {},
   "outputs": [
    {
     "data": {
      "image/png": "[encoded data removed]",
      "text/plain": [
       "<Figure size 432x288 with 1 Axes>"
      ]
     },
     "metadata": {
      "needs_background": "light"
     },
     "output_type": "display_data"
    }
   ],
   "source": [
    "plt.plot(history.history['loss'])\n",
    "plt.plot(history.history['val_loss'])\n",
    "plt.title('model loss')\n",
    "plt.ylabel('loss')\n",
    "plt.xlabel('epoch')\n",
    "plt.legend(['train', 'test'], loc='upper left')\n",
    "plt.show()"
   ]
  },
  {
   "cell_type": "markdown",
   "metadata": {},
   "source": [
    "# Summarize History for accuracy"
   ]
  },
  {
   "cell_type": "code",
   "execution_count": 31,
   "metadata": {},
   "outputs": [
    {
     "data": {
      "image/png": "[encoded data removed]",
      "text/plain": [
       "<Figure size 432x288 with 1 Axes>"
      ]
     },
     "metadata": {
      "needs_background": "light"
     },
     "output_type": "display_data"
    }
   ],
   "source": [
    "plt.plot(history.history['accuracy'])\n",
    "plt.plot(history.history['val_accuracy'])\n",
    "plt.title('model accuracy')\n",
    "plt.ylabel('accuracy')\n",
    "plt.xlabel('epoch')\n",
    "plt.legend(['train', 'test'], loc='upper left')\n",
    "plt.show()"
   ]
  },
  {
   "cell_type": "code",
   "execution_count": 32,
   "metadata": {},
   "outputs": [],
   "source": [
    "# Compute ROC curve and ROC area for each class\n",
    "fpr = dict()\n",
    "tpr = dict()\n",
    "roc_auc = dict()\n",
    "for i in range(n_classes):\n",
    "    fpr[i], tpr[i], _ = roc_curve(y_test[:, i], preds[:, i])\n",
    "    roc_auc[i] = auc(fpr[i], tpr[i])"
   ]
  },
  {
   "cell_type": "code",
   "execution_count": 33,
   "metadata": {},
   "outputs": [],
   "source": [
    "c_names = ['Bronchiectasis', 'Bronchiolitis', 'COPD', 'Healthy', 'Pneumonia', 'URTI']\n",
    "c_names2=[\"Chronic\",'Healthy','Non Chronic']"
   ]
  },
  {
   "cell_type": "code",
   "execution_count": 34,
   "metadata": {},
   "outputs": [
    {
     "data": {
      "image/png": "[encoded data removed]",
      "text/plain": [
       "<Figure size 1152x720 with 1 Axes>"
      ]
     },
     "metadata": {
      "needs_background": "light"
     },
     "output_type": "display_data"
    }
   ],
   "source": [
    "# Plot ROC curves\n",
    "fig, ax = plt.subplots(figsize=(16, 10))\n",
    "ax.plot([0, 1], [0, 1], 'k--')\n",
    "ax.set_xlim([0.0, 1.0])\n",
    "ax.set_ylim([0.0, 1.05])\n",
    "ax.set_xlabel('False Positive Rate')\n",
    "ax.set_ylabel('True Positive Rate')\n",
    "ax.set_title('ROC Curve for Each Class')\n",
    "for i in range(n_classes):\n",
    "    ax.plot(fpr[i], tpr[i], linewidth=3, label='ROC curve (area = %0.2f) for %s' % (roc_auc[i], c_names2[i]))\n",
    "ax.legend(loc=\"best\", fontsize='x-large')\n",
    "ax.grid(alpha=.4)\n",
    "sns.despine()\n",
    "plt.show()"
   ]
  },
  {
   "cell_type": "code",
   "execution_count": 35,
   "metadata": {},
   "outputs": [
    {
     "name": "stdout",
     "output_type": "stream",
     "text": [
      "              precision    recall  f1-score   support\n",
      "\n",
      "     Chronic       0.93      0.97      0.95       159\n",
      "     Healthy       0.62      0.71      0.67        28\n",
      " Non Chronic       0.88      0.73      0.80        71\n",
      "\n",
      "    accuracy                           0.88       258\n",
      "   macro avg       0.81      0.81      0.81       258\n",
      "weighted avg       0.88      0.88      0.88       258\n",
      "\n"
     ]
    }
   ],
   "source": [
    "# Classification Report\n",
    "print(classification_report(y_testclass, classpreds, target_names=c_names2))"
   ]
  },
  {
   "cell_type": "code",
   "execution_count": 36,
   "metadata": {},
   "outputs": [
    {
     "name": "stdout",
     "output_type": "stream",
     "text": [
      "[[155   2   2]\n",
      " [  3  20   5]\n",
      " [  9  10  52]]\n"
     ]
    }
   ],
   "source": [
    "# Confusion Matrix\n",
    "print(confusion_matrix(y_testclass, classpreds))"
   ]
  }
 ],
 "metadata": {
  "kernelspec": {
   "display_name": "Python 3",
   "language": "python",
   "name": "python3"
  },
  "language_info": {
   "codemirror_mode": {
    "name": "ipython",
    "version": 3
   },
   "file_extension": ".py",
   "mimetype": "text/x-python",
   "name": "python",
   "nbconvert_exporter": "python",
   "pygments_lexer": "ipython3",
   "version": "3.8.3"
  }
 },
 "nbformat": 4,
 "nbformat_minor": 4
}
