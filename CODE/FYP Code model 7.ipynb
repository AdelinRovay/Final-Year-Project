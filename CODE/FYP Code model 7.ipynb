{
 "cells": [
  {
   "cell_type": "markdown",
   "metadata": {},
   "source": [
    "# Importing required Libraries"
   ]
  },
  {
   "cell_type": "code",
   "execution_count": 1,
   "metadata": {},
   "outputs": [],
   "source": [
    "from datetime import datetime\n",
    "import os\n",
    "from os import listdir\n",
    "from os.path import isfile, join\n",
    "\n",
    "import librosa\n",
    "import librosa.display\n",
    "\n",
    "import numpy as np\n",
    "import pandas as pd\n",
    "\n",
    "from tensorflow.keras.models import Sequential\n",
    "from tensorflow.keras.layers import Dense, Dropout, Conv2D, MaxPooling2D, GlobalAveragePooling2D\n",
    "from keras.utils import to_categorical\n",
    "from tensorflow.keras.callbacks import ModelCheckpoint\n",
    "\n",
    "from scipy import signal\n",
    "from sklearn.metrics import confusion_matrix, classification_report, roc_curve, auc\n",
    "from sklearn.model_selection import train_test_split\n",
    "from sklearn.preprocessing import LabelEncoder\n",
    "\n",
    "import matplotlib.pyplot as plt\n",
    "import seaborn as sns"
   ]
  },
  {
   "cell_type": "markdown",
   "metadata": {},
   "source": [
    "# Importing Files"
   ]
  },
  {
   "cell_type": "code",
   "execution_count": 2,
   "metadata": {},
   "outputs": [
    {
     "data": {
      "text/plain": [
       "'/Users/ad/Downloads/FYP'"
      ]
     },
     "execution_count": 2,
     "metadata": {},
     "output_type": "execute_result"
    }
   ],
   "source": [
    "pwd"
   ]
  },
  {
   "cell_type": "code",
   "execution_count": 3,
   "metadata": {},
   "outputs": [],
   "source": [
    "mypath ='/Users/ad/Downloads/FYP/audio_and_txt_files/'\n",
    "filenames = [f for f in listdir(mypath) if (isfile(join(mypath, f)) and f.endswith('.wav'))]"
   ]
  },
  {
   "cell_type": "code",
   "execution_count": 4,
   "metadata": {},
   "outputs": [],
   "source": [
    "p_id_in_file = [] # patient IDs corresponding to each file\n",
    "for name in filenames:\n",
    "    p_id_in_file.append(int(name[:3]))\n",
    "\n",
    "p_id_in_file = np.array(p_id_in_file)"
   ]
  },
  {
   "cell_type": "markdown",
   "metadata": {},
   "source": [
    "# Creating functions for data Augmentation"
   ]
  },
  {
   "cell_type": "code",
   "execution_count": 5,
   "metadata": {},
   "outputs": [],
   "source": [
    "def shift(data, shift_max=2, shift_direction='right'):\n",
    "    shift = np.random.randint(22050 * shift_max)\n",
    "    if shift_direction == 'right':\n",
    "        shift = -shift\n",
    "    elif self.shift_direction == 'both':\n",
    "        direction = np.random.randint(0, 2)\n",
    "        if direction == 1:\n",
    "            shift = -shift\n",
    "    audio, sample_rate = librosa.load(data, res_type='kaiser_fast', duration=20) \n",
    "    b, a = signal.butter(6, [100/sample_rate,5000/sample_rate], 'bandpass', analog=False)\n",
    "    f = signal.filtfilt(b, a, audio)\n",
    "    augmented_data = np.roll(f, shift)\n",
    "    # Set to silence for heading/ tailing\n",
    "    if shift > 0:\n",
    "        augmented_data[:shift] = 0\n",
    "    else:\n",
    "        augmented_data[shift:] = 0\n",
    "    mfccs = librosa.feature.mfcc(y=augmented_data, sr=sample_rate, n_mfcc=40)\n",
    "    pad_width = max_pad_len - mfccs.shape[1]\n",
    "    mfccs = np.pad(mfccs, pad_width=((0, 0), (0, pad_width)), mode='constant')\n",
    "    \n",
    "    return mfccs"
   ]
  },
  {
   "cell_type": "code",
   "execution_count": 6,
   "metadata": {},
   "outputs": [],
   "source": [
    "def pitch(data, pitch_factor=2):\n",
    "    audio, sample_rate = librosa.load(data, res_type='kaiser_fast', duration=20) \n",
    "    audio=librosa.effects.pitch_shift(audio, sample_rate, pitch_factor)\n",
    "    b, a = signal.butter(6, [100/sample_rate,5000/sample_rate], 'bandpass', analog=False)\n",
    "    f = signal.filtfilt(b, a, audio)\n",
    "    mfccs = librosa.feature.mfcc(y=f, sr=sample_rate, n_mfcc=40)\n",
    "    pad_width = max_pad_len - mfccs.shape[1]\n",
    "    mfccs = np.pad(mfccs, pad_width=((0, 0), (0, pad_width)), mode='constant')\n",
    "    return mfccs"
   ]
  },
  {
   "cell_type": "code",
   "execution_count": 7,
   "metadata": {},
   "outputs": [],
   "source": [
    "def speed(data, speed_factor=2):\n",
    "    audio, sample_rate = librosa.load(data, res_type='kaiser_fast', duration=20)\n",
    "    audio=librosa.effects.time_stretch(audio, speed_factor)\n",
    "    b, a = signal.butter(6, [100/sample_rate,5000/sample_rate], 'bandpass', analog=False)\n",
    "    f = signal.filtfilt(b, a, audio)\n",
    "    mfccs = librosa.feature.mfcc(y=f, sr=sample_rate, n_mfcc=40)\n",
    "    pad_width = max_pad_len - mfccs.shape[1]\n",
    "    mfccs = np.pad(mfccs, pad_width=((0, 0), (0, pad_width)), mode='constant')\n",
    "    return mfccs"
   ]
  },
  {
   "cell_type": "code",
   "execution_count": 8,
   "metadata": {},
   "outputs": [],
   "source": [
    "max_pad_len = 862 # to make the length of all MFCC equal\n",
    "\n",
    "def extract_features(file_name):\n",
    "    \"\"\"\n",
    "    This function takes in the path for an audio file as a string, loads it, and returns the MFCC\n",
    "    of the audio\"\"\"\n",
    "   \n",
    "    try:\n",
    "        audio, sample_rate = librosa.load(file_name, res_type='kaiser_fast', duration=20) \n",
    "        b, a = signal.butter(6, [100/sample_rate,5000/sample_rate], 'bandpass', analog=False)\n",
    "        f = signal.filtfilt(b, a, audio)\n",
    "        mfccs = librosa.feature.mfcc(y=f, sr=sample_rate, n_mfcc=40)\n",
    "        pad_width = max_pad_len - mfccs.shape[1]\n",
    "        mfccs = np.pad(mfccs, pad_width=((0, 0), (0, pad_width)), mode='constant')\n",
    "        \n",
    "    except Exception as e:\n",
    "        print(\"Error encountered while parsing file: \", file_name)\n",
    "        return None \n",
    "     \n",
    "    return mfccs"
   ]
  },
  {
   "cell_type": "code",
   "execution_count": 9,
   "metadata": {},
   "outputs": [],
   "source": [
    "filepaths = [join(mypath, f) for f in filenames] # full paths of files"
   ]
  },
  {
   "cell_type": "code",
   "execution_count": 10,
   "metadata": {},
   "outputs": [],
   "source": [
    "p_diag = pd.read_csv('/Users/ad/Downloads/FYP/patient_diagnosis.csv',header=None) # patient diagnosis file"
   ]
  },
  {
   "cell_type": "code",
   "execution_count": 11,
   "metadata": {},
   "outputs": [],
   "source": [
    "labels = np.array([p_diag[p_diag[0] == x][1].values[0] for x in p_id_in_file]) # labels for audio files"
   ]
  },
  {
   "cell_type": "markdown",
   "metadata": {},
   "source": [
    "# Extracting Features"
   ]
  },
  {
   "cell_type": "code",
   "execution_count": null,
   "metadata": {},
   "outputs": [],
   "source": [
    "features = [] \n",
    "\n",
    "# Iterate through each sound file and extract the features\n",
    "for file_name in filepaths:\n",
    "    data = extract_features(file_name)\n",
    "    features.append(data)\n",
    "\n",
    "print('Finished feature extraction from ', len(features), ' original files')"
   ]
  },
  {
   "cell_type": "markdown",
   "metadata": {},
   "source": [
    "# Adding Augmented Files to data set"
   ]
  },
  {
   "cell_type": "code",
   "execution_count": 13,
   "metadata": {},
   "outputs": [
    {
     "name": "stdout",
     "output_type": "stream",
     "text": [
      "Finished feature extraction from  381 augmented files\n"
     ]
    }
   ],
   "source": [
    "labels=np.array(labels).tolist()\n",
    "for i in range (0,920):\n",
    "    if labels[i]!='COPD':\n",
    "        p=shift(filepaths[i], 2, 'right')\n",
    "        q=pitch(filepaths[i],2)\n",
    "        r=speed(filepaths[i],1.2)\n",
    "        features.append(p)\n",
    "        features.append(q)\n",
    "        features.append(r)\n",
    "        for j in range(0,3):\n",
    "            labels.append(labels[i])\n",
    "print('Finished feature extraction from ', len(features)-920, 'augmented files')"
   ]
  },
  {
   "cell_type": "code",
   "execution_count": 14,
   "metadata": {},
   "outputs": [],
   "source": [
    "features=np.array(features)\n",
    "labels=np.array(labels)"
   ]
  },
  {
   "cell_type": "code",
   "execution_count": 15,
   "metadata": {},
   "outputs": [
    {
     "data": {
      "image/png": "[encoded data removed]",
      "text/plain": [
       "<Figure size 720x288 with 2 Axes>"
      ]
     },
     "metadata": {
      "needs_background": "light"
     },
     "output_type": "display_data"
    }
   ],
   "source": [
    "#plot an MFCC\n",
    "plt.figure(figsize=(10, 4))\n",
    "librosa.display.specshow(features[100], x_axis='time')\n",
    "plt.colorbar()\n",
    "plt.title('MFCC')\n",
    "plt.tight_layout()\n",
    "plt.show()"
   ]
  },
  {
   "cell_type": "code",
   "execution_count": 16,
   "metadata": {},
   "outputs": [
    {
     "name": "stdout",
     "output_type": "stream",
     "text": [
      "[['Asthma' 'Bronchiectasis' 'Bronchiolitis' 'COPD' 'Healthy' 'LRTI'\n",
      "  'Pneumonia' 'URTI']\n",
      " ['4' '64' '52' '793' '140' '8' '148' '92']]\n"
     ]
    }
   ],
   "source": [
    "# print class counts\n",
    "unique_elements, counts_elements = np.unique(labels, return_counts=True)\n",
    "print(np.asarray((unique_elements, counts_elements)))"
   ]
  },
  {
   "cell_type": "code",
   "execution_count": 17,
   "metadata": {},
   "outputs": [
    {
     "data": {
      "image/png": "[encoded data removed]",
      "text/plain": [
       "<Figure size 864x576 with 1 Axes>"
      ]
     },
     "metadata": {
      "needs_background": "light"
     },
     "output_type": "display_data"
    }
   ],
   "source": [
    "# plot class counts\n",
    "y_pos = np.arange(len(unique_elements))\n",
    "plt.figure(figsize=(12,8))\n",
    "plt.bar(unique_elements, counts_elements, align='center', alpha=0.5)\n",
    "plt.xticks(y_pos, unique_elements)\n",
    "plt.ylabel('Count')\n",
    "plt.xlabel('Disease')\n",
    "plt.title('Disease Count in Sound Files')\n",
    "plt.show()"
   ]
  },
  {
   "cell_type": "markdown",
   "metadata": {},
   "source": [
    "# Remove the data with least cases"
   ]
  },
  {
   "cell_type": "code",
   "execution_count": 18,
   "metadata": {},
   "outputs": [],
   "source": [
    "features1 = np.delete(features, np.where((labels == 'Asthma') | (labels == 'LRTI'))[0], axis=0) \n",
    "\n",
    "labels1 = np.delete(labels, np.where((labels == 'Asthma') | (labels == 'LRTI'))[0], axis=0)"
   ]
  },
  {
   "cell_type": "markdown",
   "metadata": {},
   "source": [
    "# Designing Neural Network"
   ]
  },
  {
   "cell_type": "code",
   "execution_count": 19,
   "metadata": {},
   "outputs": [],
   "source": [
    "# One-hot encode labels\n",
    "le = LabelEncoder()\n",
    "i_labels = le.fit_transform(labels1)\n",
    "i_labels=np.array(i_labels).tolist()\n"
   ]
  },
  {
   "cell_type": "code",
   "execution_count": 20,
   "metadata": {},
   "outputs": [],
   "source": [
    "for i in range(0,1289):\n",
    "    if i_labels[i] ==2:\n",
    "        i_labels[i]= 0\n",
    "    elif i_labels[i]==3:\n",
    "        i_labels[i]= 1\n",
    "    else:\n",
    "        i_labels[i]=2\n"
   ]
  },
  {
   "cell_type": "code",
   "execution_count": 21,
   "metadata": {},
   "outputs": [],
   "source": [
    "i_labels=np.array(i_labels)\n",
    "oh_labels = to_categorical(i_labels)"
   ]
  },
  {
   "cell_type": "code",
   "execution_count": 22,
   "metadata": {},
   "outputs": [
    {
     "data": {
      "text/plain": [
       "array([0., 0., 1.], dtype=float32)"
      ]
     },
     "execution_count": 22,
     "metadata": {},
     "output_type": "execute_result"
    }
   ],
   "source": [
    "oh_labels[0]"
   ]
  },
  {
   "cell_type": "code",
   "execution_count": 23,
   "metadata": {},
   "outputs": [],
   "source": [
    "# add channel dimension for CNN\n",
    "features1 = np.reshape(features1, (*features1.shape,1))"
   ]
  },
  {
   "cell_type": "code",
   "execution_count": 24,
   "metadata": {},
   "outputs": [],
   "source": [
    "# train test split\n",
    "x_train, x_test, y_train, y_test = train_test_split(features1, oh_labels, stratify=oh_labels, \n",
    "                                                    test_size=0.2, random_state = 42)"
   ]
  },
  {
   "cell_type": "code",
   "execution_count": 25,
   "metadata": {},
   "outputs": [
    {
     "data": {
      "text/plain": [
       "array([1., 0., 0.], dtype=float32)"
      ]
     },
     "execution_count": 25,
     "metadata": {},
     "output_type": "execute_result"
    }
   ],
   "source": [
    "y_train[0]"
   ]
  },
  {
   "cell_type": "code",
   "execution_count": 26,
   "metadata": {},
   "outputs": [],
   "source": [
    "num_rows = 40\n",
    "num_columns = 862\n",
    "num_channels = 1\n",
    "\n",
    "num_labels = oh_labels.shape[1]\n",
    "filter_size = 2\n",
    "\n",
    "# Construct model \n",
    "model = Sequential()\n",
    "model.add(Conv2D(filters=64, kernel_size=filter_size,\n",
    "                 input_shape=(num_rows, num_columns, num_channels), activation='relu'))\n",
    "model.add(MaxPooling2D(pool_size=2))\n",
    "\n",
    "\n",
    "model.add(Conv2D(filters=64, kernel_size=filter_size, activation='relu'))\n",
    "model.add(MaxPooling2D(pool_size=2))\n",
    "\n",
    "model.add(Conv2D(filters=96, kernel_size=filter_size, activation='relu'))\n",
    "model.add(MaxPooling2D(pool_size=2))\n",
    "\n",
    "\n",
    "model.add(Conv2D(filters=96, kernel_size=filter_size, activation='relu'))\n",
    "model.add(MaxPooling2D(pool_size=2))\n",
    "\n",
    "\n",
    "model.add(GlobalAveragePooling2D())\n",
    "model.add(Dense(256))\n",
    "model.add(Dropout(0.6))\n",
    "model.add(Dense(128))\n",
    "model.add(Dropout(0.3))\n",
    "model.add(Dense(64))\n",
    "model.add(Dropout(0.15))\n",
    "model.add(Dense(32))\n",
    "model.add(Dropout(0.075))\n",
    "model.add(Dense(16))\n",
    "model.add(Dropout(0.0325))\n",
    "model.add(Dense(8))\n",
    "model.add(Dense(num_labels, activation='softmax'))"
   ]
  },
  {
   "cell_type": "code",
   "execution_count": 27,
   "metadata": {},
   "outputs": [],
   "source": [
    "# Compile the model\n",
    "model.compile(loss='categorical_crossentropy', metrics=['accuracy'], optimizer='adam')"
   ]
  },
  {
   "cell_type": "code",
   "execution_count": 28,
   "metadata": {},
   "outputs": [
    {
     "name": "stdout",
     "output_type": "stream",
     "text": [
      "Model: \"sequential\"\n",
      "_________________________________________________________________\n",
      "Layer (type)                 Output Shape              Param #   \n",
      "=================================================================\n",
      "conv2d (Conv2D)              (None, 39, 861, 64)       320       \n",
      "_________________________________________________________________\n",
      "max_pooling2d (MaxPooling2D) (None, 19, 430, 64)       0         \n",
      "_________________________________________________________________\n",
      "conv2d_1 (Conv2D)            (None, 18, 429, 64)       16448     \n",
      "_________________________________________________________________\n",
      "max_pooling2d_1 (MaxPooling2 (None, 9, 214, 64)        0         \n",
      "_________________________________________________________________\n",
      "conv2d_2 (Conv2D)            (None, 8, 213, 96)        24672     \n",
      "_________________________________________________________________\n",
      "max_pooling2d_2 (MaxPooling2 (None, 4, 106, 96)        0         \n",
      "_________________________________________________________________\n",
      "conv2d_3 (Conv2D)            (None, 3, 105, 96)        36960     \n",
      "_________________________________________________________________\n",
      "max_pooling2d_3 (MaxPooling2 (None, 1, 52, 96)         0         \n",
      "_________________________________________________________________\n",
      "global_average_pooling2d (Gl (None, 96)                0         \n",
      "_________________________________________________________________\n",
      "dense (Dense)                (None, 256)               24832     \n",
      "_________________________________________________________________\n",
      "dropout (Dropout)            (None, 256)               0         \n",
      "_________________________________________________________________\n",
      "dense_1 (Dense)              (None, 128)               32896     \n",
      "_________________________________________________________________\n",
      "dropout_1 (Dropout)          (None, 128)               0         \n",
      "_________________________________________________________________\n",
      "dense_2 (Dense)              (None, 64)                8256      \n",
      "_________________________________________________________________\n",
      "dropout_2 (Dropout)          (None, 64)                0         \n",
      "_________________________________________________________________\n",
      "dense_3 (Dense)              (None, 32)                2080      \n",
      "_________________________________________________________________\n",
      "dropout_3 (Dropout)          (None, 32)                0         \n",
      "_________________________________________________________________\n",
      "dense_4 (Dense)              (None, 16)                528       \n",
      "_________________________________________________________________\n",
      "dropout_4 (Dropout)          (None, 16)                0         \n",
      "_________________________________________________________________\n",
      "dense_5 (Dense)              (None, 8)                 136       \n",
      "_________________________________________________________________\n",
      "dense_6 (Dense)              (None, 3)                 27        \n",
      "=================================================================\n",
      "Total params: 147,155\n",
      "Trainable params: 147,155\n",
      "Non-trainable params: 0\n",
      "_________________________________________________________________\n",
      "9/9 [==============================] - 1s 118ms/step - loss: 11.2657 - accuracy: 0.6029\n",
      "Pre-training accuracy: 61.6279%\n"
     ]
    }
   ],
   "source": [
    "# Display model architecture summary \n",
    "model.summary()\n",
    "\n",
    "# Calculate pre-training accuracy \n",
    "score = model.evaluate(x_test, y_test, verbose=1)\n",
    "accuracy = 100*score[1]\n",
    "\n",
    "print(\"Pre-training accuracy: %.4f%%\" % accuracy)"
   ]
  },
  {
   "cell_type": "markdown",
   "metadata": {},
   "source": [
    "# Training the model"
   ]
  },
  {
   "cell_type": "code",
   "execution_count": 29,
   "metadata": {},
   "outputs": [
    {
     "name": "stdout",
     "output_type": "stream",
     "text": [
      "Epoch 1/120\n",
      "9/9 [==============================] - 18s 2s/step - loss: 9.4638 - accuracy: 0.4869 - val_loss: 1.4293 - val_accuracy: 0.6899\n",
      "\n",
      "Epoch 00001: val_accuracy improved from -inf to 0.68992, saving model to mymodel2_01.h5\n",
      "Epoch 2/120\n",
      "9/9 [==============================] - 18s 2s/step - loss: 1.5024 - accuracy: 0.6275 - val_loss: 0.5743 - val_accuracy: 0.7597\n",
      "\n",
      "Epoch 00002: val_accuracy improved from 0.68992 to 0.75969, saving model to mymodel2_02.h5\n",
      "Epoch 3/120\n",
      "9/9 [==============================] - 60s 7s/step - loss: 0.7960 - accuracy: 0.6741 - val_loss: 0.5719 - val_accuracy: 0.7403\n",
      "\n",
      "Epoch 00003: val_accuracy did not improve from 0.75969\n",
      "Epoch 4/120\n",
      "9/9 [==============================] - 18s 2s/step - loss: 0.6828 - accuracy: 0.6906 - val_loss: 0.5423 - val_accuracy: 0.7403\n",
      "\n",
      "Epoch 00004: val_accuracy did not improve from 0.75969\n",
      "Epoch 5/120\n",
      "9/9 [==============================] - 19s 2s/step - loss: 0.6248 - accuracy: 0.6964 - val_loss: 0.5313 - val_accuracy: 0.7752\n",
      "\n",
      "Epoch 00005: val_accuracy improved from 0.75969 to 0.77519, saving model to mymodel2_05.h5\n",
      "Epoch 6/120\n",
      "9/9 [==============================] - 19s 2s/step - loss: 0.5933 - accuracy: 0.7468 - val_loss: 0.4895 - val_accuracy: 0.8023\n",
      "\n",
      "Epoch 00006: val_accuracy improved from 0.77519 to 0.80233, saving model to mymodel2_06.h5\n",
      "Epoch 7/120\n",
      "9/9 [==============================] - 18s 2s/step - loss: 0.5491 - accuracy: 0.7498 - val_loss: 0.5330 - val_accuracy: 0.7791\n",
      "\n",
      "Epoch 00007: val_accuracy did not improve from 0.80233\n",
      "Epoch 8/120\n",
      "9/9 [==============================] - 18s 2s/step - loss: 0.6265 - accuracy: 0.6984 - val_loss: 0.5278 - val_accuracy: 0.7907\n",
      "\n",
      "Epoch 00008: val_accuracy did not improve from 0.80233\n",
      "Epoch 9/120\n",
      "9/9 [==============================] - 18s 2s/step - loss: 0.5835 - accuracy: 0.7517 - val_loss: 0.4600 - val_accuracy: 0.7829\n",
      "\n",
      "Epoch 00009: val_accuracy did not improve from 0.80233\n",
      "Epoch 10/120\n",
      "9/9 [==============================] - 18s 2s/step - loss: 0.4944 - accuracy: 0.7711 - val_loss: 0.4486 - val_accuracy: 0.7946\n",
      "\n",
      "Epoch 00010: val_accuracy did not improve from 0.80233\n",
      "Epoch 11/120\n",
      "9/9 [==============================] - 19s 2s/step - loss: 0.5105 - accuracy: 0.7662 - val_loss: 0.4760 - val_accuracy: 0.7713\n",
      "\n",
      "Epoch 00011: val_accuracy did not improve from 0.80233\n",
      "Epoch 12/120\n",
      "9/9 [==============================] - 18s 2s/step - loss: 0.4900 - accuracy: 0.7740 - val_loss: 0.4407 - val_accuracy: 0.7868\n",
      "\n",
      "Epoch 00012: val_accuracy did not improve from 0.80233\n",
      "Epoch 13/120\n",
      "9/9 [==============================] - 18s 2s/step - loss: 0.4661 - accuracy: 0.7759 - val_loss: 0.3996 - val_accuracy: 0.8140\n",
      "\n",
      "Epoch 00013: val_accuracy improved from 0.80233 to 0.81395, saving model to mymodel2_13.h5\n",
      "Epoch 14/120\n",
      "9/9 [==============================] - 18s 2s/step - loss: 0.4405 - accuracy: 0.7963 - val_loss: 0.4618 - val_accuracy: 0.8023\n",
      "\n",
      "Epoch 00014: val_accuracy did not improve from 0.81395\n",
      "Epoch 15/120\n",
      "9/9 [==============================] - 18s 2s/step - loss: 0.4958 - accuracy: 0.7759 - val_loss: 0.4212 - val_accuracy: 0.8101\n",
      "\n",
      "Epoch 00015: val_accuracy did not improve from 0.81395\n",
      "Epoch 16/120\n",
      "9/9 [==============================] - 18s 2s/step - loss: 0.4734 - accuracy: 0.7895 - val_loss: 0.4432 - val_accuracy: 0.8101\n",
      "\n",
      "Epoch 00016: val_accuracy did not improve from 0.81395\n",
      "Epoch 17/120\n",
      "9/9 [==============================] - 18s 2s/step - loss: 0.5144 - accuracy: 0.7614 - val_loss: 0.4356 - val_accuracy: 0.8023\n",
      "\n",
      "Epoch 00017: val_accuracy did not improve from 0.81395\n",
      "Epoch 18/120\n",
      "9/9 [==============================] - 18s 2s/step - loss: 0.4810 - accuracy: 0.7827 - val_loss: 0.4494 - val_accuracy: 0.7752\n",
      "\n",
      "Epoch 00018: val_accuracy did not improve from 0.81395\n",
      "Epoch 19/120\n",
      "9/9 [==============================] - 18s 2s/step - loss: 0.4466 - accuracy: 0.7876 - val_loss: 0.3951 - val_accuracy: 0.8295\n",
      "\n",
      "Epoch 00019: val_accuracy improved from 0.81395 to 0.82946, saving model to mymodel2_19.h5\n",
      "Epoch 20/120\n",
      "9/9 [==============================] - 18s 2s/step - loss: 0.4616 - accuracy: 0.7856 - val_loss: 0.3822 - val_accuracy: 0.8178\n",
      "\n",
      "Epoch 00020: val_accuracy did not improve from 0.82946\n",
      "Epoch 21/120\n",
      "9/9 [==============================] - 18s 2s/step - loss: 0.4249 - accuracy: 0.7953 - val_loss: 0.3800 - val_accuracy: 0.8023\n",
      "\n",
      "Epoch 00021: val_accuracy did not improve from 0.82946\n",
      "Epoch 22/120\n",
      "9/9 [==============================] - 18s 2s/step - loss: 0.3721 - accuracy: 0.8283 - val_loss: 0.3615 - val_accuracy: 0.8372\n",
      "\n",
      "Epoch 00022: val_accuracy improved from 0.82946 to 0.83721, saving model to mymodel2_22.h5\n",
      "Epoch 23/120\n",
      "9/9 [==============================] - 17s 2s/step - loss: 0.3743 - accuracy: 0.8283 - val_loss: 0.3845 - val_accuracy: 0.8256\n",
      "\n",
      "Epoch 00023: val_accuracy did not improve from 0.83721\n",
      "Epoch 24/120\n",
      "9/9 [==============================] - 17s 2s/step - loss: 0.3969 - accuracy: 0.8089 - val_loss: 0.3506 - val_accuracy: 0.8178\n",
      "\n",
      "Epoch 00024: val_accuracy did not improve from 0.83721\n",
      "Epoch 25/120\n",
      "9/9 [==============================] - 18s 2s/step - loss: 0.3809 - accuracy: 0.8147 - val_loss: 0.3492 - val_accuracy: 0.8411\n",
      "\n",
      "Epoch 00025: val_accuracy improved from 0.83721 to 0.84109, saving model to mymodel2_25.h5\n",
      "Epoch 26/120\n",
      "9/9 [==============================] - 18s 2s/step - loss: 0.3798 - accuracy: 0.8157 - val_loss: 0.3491 - val_accuracy: 0.8295\n",
      "\n",
      "Epoch 00026: val_accuracy did not improve from 0.84109\n",
      "Epoch 27/120\n",
      "9/9 [==============================] - 18s 2s/step - loss: 0.3429 - accuracy: 0.8468 - val_loss: 0.3292 - val_accuracy: 0.8333\n",
      "\n",
      "Epoch 00027: val_accuracy did not improve from 0.84109\n",
      "Epoch 28/120\n",
      "9/9 [==============================] - 18s 2s/step - loss: 0.3328 - accuracy: 0.8448 - val_loss: 0.3037 - val_accuracy: 0.8527\n",
      "\n",
      "Epoch 00028: val_accuracy improved from 0.84109 to 0.85271, saving model to mymodel2_28.h5\n",
      "Epoch 29/120\n",
      "9/9 [==============================] - 18s 2s/step - loss: 0.3390 - accuracy: 0.8506 - val_loss: 0.3201 - val_accuracy: 0.8411\n",
      "\n",
      "Epoch 00029: val_accuracy did not improve from 0.85271\n",
      "Epoch 30/120\n",
      "9/9 [==============================] - 17s 2s/step - loss: 0.3544 - accuracy: 0.8254 - val_loss: 0.3275 - val_accuracy: 0.8140\n",
      "\n",
      "Epoch 00030: val_accuracy did not improve from 0.85271\n",
      "Epoch 31/120\n",
      "9/9 [==============================] - 17s 2s/step - loss: 0.3551 - accuracy: 0.8264 - val_loss: 0.3358 - val_accuracy: 0.8488\n",
      "\n",
      "Epoch 00031: val_accuracy did not improve from 0.85271\n",
      "Epoch 32/120\n",
      "9/9 [==============================] - 17s 2s/step - loss: 0.3307 - accuracy: 0.8565 - val_loss: 0.4019 - val_accuracy: 0.8140\n",
      "\n",
      "Epoch 00032: val_accuracy did not improve from 0.85271\n",
      "Epoch 33/120\n",
      "9/9 [==============================] - 18s 2s/step - loss: 0.3535 - accuracy: 0.8448 - val_loss: 0.3053 - val_accuracy: 0.8488\n",
      "\n",
      "Epoch 00033: val_accuracy did not improve from 0.85271\n",
      "Epoch 34/120\n",
      "9/9 [==============================] - 18s 2s/step - loss: 0.3268 - accuracy: 0.8535 - val_loss: 0.2928 - val_accuracy: 0.8333\n",
      "\n",
      "Epoch 00034: val_accuracy did not improve from 0.85271\n",
      "Epoch 35/120\n",
      "9/9 [==============================] - 18s 2s/step - loss: 0.3372 - accuracy: 0.8497 - val_loss: 0.4547 - val_accuracy: 0.7829\n",
      "\n",
      "Epoch 00035: val_accuracy did not improve from 0.85271\n",
      "Epoch 36/120\n",
      "9/9 [==============================] - 18s 2s/step - loss: 0.4115 - accuracy: 0.7886 - val_loss: 0.3387 - val_accuracy: 0.8333\n",
      "\n",
      "Epoch 00036: val_accuracy did not improve from 0.85271\n",
      "Epoch 37/120\n",
      "9/9 [==============================] - 18s 2s/step - loss: 0.3832 - accuracy: 0.8157 - val_loss: 0.4143 - val_accuracy: 0.7868\n",
      "\n",
      "Epoch 00037: val_accuracy did not improve from 0.85271\n",
      "Epoch 38/120\n",
      "9/9 [==============================] - 18s 2s/step - loss: 0.3946 - accuracy: 0.8147 - val_loss: 0.3919 - val_accuracy: 0.8023\n",
      "\n",
      "Epoch 00038: val_accuracy did not improve from 0.85271\n",
      "Epoch 39/120\n",
      "9/9 [==============================] - 18s 2s/step - loss: 0.3574 - accuracy: 0.8341 - val_loss: 0.4255 - val_accuracy: 0.8023\n",
      "\n",
      "Epoch 00039: val_accuracy did not improve from 0.85271\n",
      "Epoch 40/120\n",
      "9/9 [==============================] - 18s 2s/step - loss: 0.3270 - accuracy: 0.8497 - val_loss: 0.3391 - val_accuracy: 0.8217\n",
      "\n",
      "Epoch 00040: val_accuracy did not improve from 0.85271\n",
      "Epoch 41/120\n",
      "9/9 [==============================] - 18s 2s/step - loss: 0.2871 - accuracy: 0.8594 - val_loss: 0.2813 - val_accuracy: 0.8682\n",
      "\n",
      "Epoch 00041: val_accuracy improved from 0.85271 to 0.86822, saving model to mymodel2_41.h5\n",
      "Epoch 42/120\n",
      "9/9 [==============================] - 18s 2s/step - loss: 0.2898 - accuracy: 0.8603 - val_loss: 0.3268 - val_accuracy: 0.8682\n",
      "\n",
      "Epoch 00042: val_accuracy did not improve from 0.86822\n",
      "Epoch 43/120\n",
      "9/9 [==============================] - 18s 2s/step - loss: 0.3239 - accuracy: 0.8555 - val_loss: 0.2703 - val_accuracy: 0.8837\n",
      "\n",
      "Epoch 00043: val_accuracy improved from 0.86822 to 0.88372, saving model to mymodel2_43.h5\n",
      "Epoch 44/120\n",
      "9/9 [==============================] - 18s 2s/step - loss: 0.3115 - accuracy: 0.8594 - val_loss: 0.3118 - val_accuracy: 0.8333\n",
      "\n",
      "Epoch 00044: val_accuracy did not improve from 0.88372\n",
      "Epoch 45/120\n",
      "9/9 [==============================] - 18s 2s/step - loss: 0.3100 - accuracy: 0.8700 - val_loss: 0.3080 - val_accuracy: 0.8488\n",
      "\n",
      "Epoch 00045: val_accuracy did not improve from 0.88372\n",
      "Epoch 46/120\n",
      "9/9 [==============================] - 18s 2s/step - loss: 0.2749 - accuracy: 0.8788 - val_loss: 0.2642 - val_accuracy: 0.8837\n",
      "\n",
      "Epoch 00046: val_accuracy did not improve from 0.88372\n",
      "Epoch 47/120\n",
      "9/9 [==============================] - 18s 2s/step - loss: 0.2767 - accuracy: 0.8691 - val_loss: 0.2791 - val_accuracy: 0.8721\n",
      "\n",
      "Epoch 00047: val_accuracy did not improve from 0.88372\n",
      "Epoch 48/120\n",
      "9/9 [==============================] - 18s 2s/step - loss: 0.2431 - accuracy: 0.8972 - val_loss: 0.2528 - val_accuracy: 0.8876\n",
      "\n",
      "Epoch 00048: val_accuracy improved from 0.88372 to 0.88760, saving model to mymodel2_48.h5\n",
      "Epoch 49/120\n",
      "9/9 [==============================] - 18s 2s/step - loss: 0.2394 - accuracy: 0.8885 - val_loss: 0.2875 - val_accuracy: 0.8721\n",
      "\n",
      "Epoch 00049: val_accuracy did not improve from 0.88760\n",
      "Epoch 50/120\n",
      "9/9 [==============================] - 18s 2s/step - loss: 0.2789 - accuracy: 0.8671 - val_loss: 0.2714 - val_accuracy: 0.8605\n",
      "\n",
      "Epoch 00050: val_accuracy did not improve from 0.88760\n",
      "Epoch 51/120\n",
      "9/9 [==============================] - 18s 2s/step - loss: 0.2940 - accuracy: 0.8632 - val_loss: 0.2990 - val_accuracy: 0.8643\n",
      "\n",
      "Epoch 00051: val_accuracy did not improve from 0.88760\n",
      "Epoch 52/120\n",
      "9/9 [==============================] - 18s 2s/step - loss: 0.2583 - accuracy: 0.8749 - val_loss: 0.2896 - val_accuracy: 0.8527\n",
      "\n",
      "Epoch 00052: val_accuracy did not improve from 0.88760\n",
      "Epoch 53/120\n",
      "9/9 [==============================] - 18s 2s/step - loss: 0.2305 - accuracy: 0.8991 - val_loss: 0.2575 - val_accuracy: 0.8837\n",
      "\n",
      "Epoch 00053: val_accuracy did not improve from 0.88760\n",
      "Epoch 54/120\n",
      "9/9 [==============================] - 18s 2s/step - loss: 0.2349 - accuracy: 0.8952 - val_loss: 0.2837 - val_accuracy: 0.8488\n",
      "\n",
      "Epoch 00054: val_accuracy did not improve from 0.88760\n",
      "Epoch 55/120\n",
      "9/9 [==============================] - 18s 2s/step - loss: 0.2494 - accuracy: 0.8846 - val_loss: 0.2492 - val_accuracy: 0.8760\n",
      "\n",
      "Epoch 00055: val_accuracy did not improve from 0.88760\n",
      "Epoch 56/120\n",
      "9/9 [==============================] - 18s 2s/step - loss: 0.2568 - accuracy: 0.8807 - val_loss: 0.2901 - val_accuracy: 0.8643\n",
      "\n",
      "Epoch 00056: val_accuracy did not improve from 0.88760\n",
      "Epoch 57/120\n",
      "9/9 [==============================] - 18s 2s/step - loss: 0.3273 - accuracy: 0.8438 - val_loss: 0.3219 - val_accuracy: 0.8372\n",
      "\n",
      "Epoch 00057: val_accuracy did not improve from 0.88760\n",
      "Epoch 58/120\n",
      "9/9 [==============================] - 18s 2s/step - loss: 0.2342 - accuracy: 0.8894 - val_loss: 0.2861 - val_accuracy: 0.8643\n",
      "\n",
      "Epoch 00058: val_accuracy did not improve from 0.88760\n",
      "Epoch 59/120\n",
      "9/9 [==============================] - 18s 2s/step - loss: 0.2171 - accuracy: 0.9020 - val_loss: 0.2430 - val_accuracy: 0.8876\n",
      "\n",
      "Epoch 00059: val_accuracy did not improve from 0.88760\n",
      "Epoch 60/120\n",
      "9/9 [==============================] - 18s 2s/step - loss: 0.1995 - accuracy: 0.9146 - val_loss: 0.2081 - val_accuracy: 0.9109\n",
      "\n",
      "Epoch 00060: val_accuracy improved from 0.88760 to 0.91085, saving model to mymodel2_60.h5\n",
      "Epoch 61/120\n",
      "9/9 [==============================] - 18s 2s/step - loss: 0.1935 - accuracy: 0.9146 - val_loss: 0.2152 - val_accuracy: 0.9109\n",
      "\n",
      "Epoch 00061: val_accuracy did not improve from 0.91085\n",
      "Epoch 62/120\n",
      "9/9 [==============================] - 18s 2s/step - loss: 0.1917 - accuracy: 0.9176 - val_loss: 0.2391 - val_accuracy: 0.9031\n",
      "\n",
      "Epoch 00062: val_accuracy did not improve from 0.91085\n",
      "Epoch 63/120\n",
      "9/9 [==============================] - 18s 2s/step - loss: 0.1769 - accuracy: 0.9234 - val_loss: 0.2119 - val_accuracy: 0.8953\n",
      "\n",
      "Epoch 00063: val_accuracy did not improve from 0.91085\n",
      "Epoch 64/120\n",
      "9/9 [==============================] - 18s 2s/step - loss: 0.1810 - accuracy: 0.9088 - val_loss: 0.6459 - val_accuracy: 0.8101\n",
      "\n",
      "Epoch 00064: val_accuracy did not improve from 0.91085\n",
      "Epoch 65/120\n",
      "9/9 [==============================] - 18s 2s/step - loss: 0.3065 - accuracy: 0.8700 - val_loss: 0.3114 - val_accuracy: 0.8682\n",
      "\n",
      "Epoch 00065: val_accuracy did not improve from 0.91085\n",
      "Epoch 66/120\n",
      "9/9 [==============================] - 18s 2s/step - loss: 0.2842 - accuracy: 0.8613 - val_loss: 0.2532 - val_accuracy: 0.8915\n",
      "\n",
      "Epoch 00066: val_accuracy did not improve from 0.91085\n",
      "Epoch 67/120\n",
      "9/9 [==============================] - 18s 2s/step - loss: 0.2602 - accuracy: 0.8933 - val_loss: 0.2750 - val_accuracy: 0.8837\n",
      "\n",
      "Epoch 00067: val_accuracy did not improve from 0.91085\n",
      "Epoch 68/120\n",
      "9/9 [==============================] - 18s 2s/step - loss: 0.2430 - accuracy: 0.8982 - val_loss: 0.2898 - val_accuracy: 0.8566\n",
      "\n",
      "Epoch 00068: val_accuracy did not improve from 0.91085\n",
      "Epoch 69/120\n",
      "9/9 [==============================] - 18s 2s/step - loss: 0.2436 - accuracy: 0.8885 - val_loss: 0.2342 - val_accuracy: 0.8837\n",
      "\n",
      "Epoch 00069: val_accuracy did not improve from 0.91085\n",
      "Epoch 70/120\n",
      "9/9 [==============================] - 18s 2s/step - loss: 0.2431 - accuracy: 0.8904 - val_loss: 0.2107 - val_accuracy: 0.9186\n",
      "\n",
      "Epoch 00070: val_accuracy improved from 0.91085 to 0.91860, saving model to mymodel2_70.h5\n",
      "Epoch 71/120\n",
      "9/9 [==============================] - 18s 2s/step - loss: 0.2171 - accuracy: 0.9030 - val_loss: 0.2702 - val_accuracy: 0.8643\n",
      "\n",
      "Epoch 00071: val_accuracy did not improve from 0.91860\n",
      "Epoch 72/120\n",
      "9/9 [==============================] - 18s 2s/step - loss: 0.1855 - accuracy: 0.9224 - val_loss: 0.2049 - val_accuracy: 0.9070\n",
      "\n",
      "Epoch 00072: val_accuracy did not improve from 0.91860\n",
      "Epoch 73/120\n",
      "9/9 [==============================] - 18s 2s/step - loss: 0.1777 - accuracy: 0.9205 - val_loss: 0.2300 - val_accuracy: 0.9070\n",
      "\n",
      "Epoch 00073: val_accuracy did not improve from 0.91860\n",
      "Epoch 74/120\n",
      "9/9 [==============================] - 18s 2s/step - loss: 0.1687 - accuracy: 0.9253 - val_loss: 0.2662 - val_accuracy: 0.8837\n",
      "\n",
      "Epoch 00074: val_accuracy did not improve from 0.91860\n",
      "Epoch 75/120\n",
      "9/9 [==============================] - 18s 2s/step - loss: 0.1654 - accuracy: 0.9340 - val_loss: 0.2161 - val_accuracy: 0.8992\n",
      "\n",
      "Epoch 00075: val_accuracy did not improve from 0.91860\n",
      "Epoch 76/120\n",
      "9/9 [==============================] - 18s 2s/step - loss: 0.1470 - accuracy: 0.9370 - val_loss: 0.4143 - val_accuracy: 0.8682\n",
      "\n",
      "Epoch 00076: val_accuracy did not improve from 0.91860\n",
      "Epoch 77/120\n",
      "9/9 [==============================] - 18s 2s/step - loss: 0.2286 - accuracy: 0.9079 - val_loss: 0.2499 - val_accuracy: 0.8876\n",
      "\n",
      "Epoch 00077: val_accuracy did not improve from 0.91860\n",
      "Epoch 78/120\n",
      "9/9 [==============================] - 18s 2s/step - loss: 0.2268 - accuracy: 0.8991 - val_loss: 0.2489 - val_accuracy: 0.8953\n",
      "\n",
      "Epoch 00078: val_accuracy did not improve from 0.91860\n",
      "Epoch 79/120\n",
      "9/9 [==============================] - 18s 2s/step - loss: 0.1762 - accuracy: 0.9234 - val_loss: 0.2225 - val_accuracy: 0.8992\n",
      "\n",
      "Epoch 00079: val_accuracy did not improve from 0.91860\n",
      "Epoch 80/120\n",
      "9/9 [==============================] - 18s 2s/step - loss: 0.2149 - accuracy: 0.8991 - val_loss: 0.3198 - val_accuracy: 0.8372\n",
      "\n",
      "Epoch 00080: val_accuracy did not improve from 0.91860\n",
      "Epoch 81/120\n",
      "9/9 [==============================] - 18s 2s/step - loss: 0.2047 - accuracy: 0.9098 - val_loss: 0.3138 - val_accuracy: 0.8760\n",
      "\n",
      "Epoch 00081: val_accuracy did not improve from 0.91860\n",
      "Epoch 82/120\n"
     ]
    },
    {
     "name": "stdout",
     "output_type": "stream",
     "text": [
      "9/9 [==============================] - 18s 2s/step - loss: 0.2667 - accuracy: 0.8855 - val_loss: 0.3257 - val_accuracy: 0.8682\n",
      "\n",
      "Epoch 00082: val_accuracy did not improve from 0.91860\n",
      "Epoch 83/120\n",
      "9/9 [==============================] - 18s 2s/step - loss: 0.2531 - accuracy: 0.8991 - val_loss: 0.4437 - val_accuracy: 0.8217\n",
      "\n",
      "Epoch 00083: val_accuracy did not improve from 0.91860\n",
      "Epoch 84/120\n",
      "9/9 [==============================] - 18s 2s/step - loss: 0.2767 - accuracy: 0.8894 - val_loss: 0.2839 - val_accuracy: 0.8721\n",
      "\n",
      "Epoch 00084: val_accuracy did not improve from 0.91860\n",
      "Epoch 85/120\n",
      "9/9 [==============================] - 18s 2s/step - loss: 0.1716 - accuracy: 0.9243 - val_loss: 0.2526 - val_accuracy: 0.8992\n",
      "\n",
      "Epoch 00085: val_accuracy did not improve from 0.91860\n",
      "Epoch 86/120\n",
      "9/9 [==============================] - 18s 2s/step - loss: 0.1297 - accuracy: 0.9486 - val_loss: 0.2474 - val_accuracy: 0.8992\n",
      "\n",
      "Epoch 00086: val_accuracy did not improve from 0.91860\n",
      "Epoch 87/120\n",
      "9/9 [==============================] - 18s 2s/step - loss: 0.1452 - accuracy: 0.9379 - val_loss: 0.2779 - val_accuracy: 0.8721\n",
      "\n",
      "Epoch 00087: val_accuracy did not improve from 0.91860\n",
      "Epoch 88/120\n",
      "9/9 [==============================] - 18s 2s/step - loss: 0.1703 - accuracy: 0.9379 - val_loss: 0.2507 - val_accuracy: 0.8953\n",
      "\n",
      "Epoch 00088: val_accuracy did not improve from 0.91860\n",
      "Epoch 89/120\n",
      "9/9 [==============================] - 18s 2s/step - loss: 0.1653 - accuracy: 0.9437 - val_loss: 0.2234 - val_accuracy: 0.9070\n",
      "\n",
      "Epoch 00089: val_accuracy did not improve from 0.91860\n",
      "Epoch 90/120\n",
      "9/9 [==============================] - 18s 2s/step - loss: 0.1778 - accuracy: 0.9263 - val_loss: 0.2319 - val_accuracy: 0.9147\n",
      "\n",
      "Epoch 00090: val_accuracy did not improve from 0.91860\n",
      "Epoch 91/120\n",
      "9/9 [==============================] - 18s 2s/step - loss: 0.1331 - accuracy: 0.9437 - val_loss: 0.2245 - val_accuracy: 0.9147\n",
      "\n",
      "Epoch 00091: val_accuracy did not improve from 0.91860\n",
      "Epoch 92/120\n",
      "9/9 [==============================] - 18s 2s/step - loss: 0.1159 - accuracy: 0.9573 - val_loss: 0.1935 - val_accuracy: 0.9147\n",
      "\n",
      "Epoch 00092: val_accuracy did not improve from 0.91860\n",
      "Epoch 93/120\n",
      "9/9 [==============================] - 18s 2s/step - loss: 0.1367 - accuracy: 0.9360 - val_loss: 0.2135 - val_accuracy: 0.9186\n",
      "\n",
      "Epoch 00093: val_accuracy did not improve from 0.91860\n",
      "Epoch 94/120\n",
      "9/9 [==============================] - 18s 2s/step - loss: 0.1698 - accuracy: 0.9263 - val_loss: 0.1970 - val_accuracy: 0.9225\n",
      "\n",
      "Epoch 00094: val_accuracy improved from 0.91860 to 0.92248, saving model to mymodel2_94.h5\n",
      "Epoch 95/120\n",
      "9/9 [==============================] - 18s 2s/step - loss: 0.1285 - accuracy: 0.9428 - val_loss: 0.4436 - val_accuracy: 0.8643\n",
      "\n",
      "Epoch 00095: val_accuracy did not improve from 0.92248\n",
      "Epoch 96/120\n",
      "9/9 [==============================] - 18s 2s/step - loss: 0.1825 - accuracy: 0.9282 - val_loss: 0.2258 - val_accuracy: 0.8837\n",
      "\n",
      "Epoch 00096: val_accuracy did not improve from 0.92248\n",
      "Epoch 97/120\n",
      "9/9 [==============================] - 18s 2s/step - loss: 0.1432 - accuracy: 0.9379 - val_loss: 0.3732 - val_accuracy: 0.8760\n",
      "\n",
      "Epoch 00097: val_accuracy did not improve from 0.92248\n",
      "Epoch 98/120\n",
      "9/9 [==============================] - 18s 2s/step - loss: 0.1216 - accuracy: 0.9496 - val_loss: 0.2015 - val_accuracy: 0.9147\n",
      "\n",
      "Epoch 00098: val_accuracy did not improve from 0.92248\n",
      "Epoch 99/120\n",
      "9/9 [==============================] - 18s 2s/step - loss: 0.0896 - accuracy: 0.9709 - val_loss: 0.2526 - val_accuracy: 0.9031\n",
      "\n",
      "Epoch 00099: val_accuracy did not improve from 0.92248\n",
      "Epoch 100/120\n",
      "9/9 [==============================] - 18s 2s/step - loss: 0.0956 - accuracy: 0.9534 - val_loss: 0.1943 - val_accuracy: 0.9341\n",
      "\n",
      "Epoch 00100: val_accuracy improved from 0.92248 to 0.93411, saving model to mymodel2_100.h5\n",
      "Epoch 101/120\n",
      "9/9 [==============================] - 18s 2s/step - loss: 0.0818 - accuracy: 0.9680 - val_loss: 0.1968 - val_accuracy: 0.9419\n",
      "\n",
      "Epoch 00101: val_accuracy improved from 0.93411 to 0.94186, saving model to mymodel2_101.h5\n",
      "Epoch 102/120\n",
      "9/9 [==============================] - 18s 2s/step - loss: 0.0839 - accuracy: 0.9728 - val_loss: 0.2697 - val_accuracy: 0.9070\n",
      "\n",
      "Epoch 00102: val_accuracy did not improve from 0.94186\n",
      "Epoch 103/120\n",
      "9/9 [==============================] - 18s 2s/step - loss: 0.0786 - accuracy: 0.9699 - val_loss: 0.2115 - val_accuracy: 0.9186\n",
      "\n",
      "Epoch 00103: val_accuracy did not improve from 0.94186\n",
      "Epoch 104/120\n",
      "9/9 [==============================] - 18s 2s/step - loss: 0.0622 - accuracy: 0.9767 - val_loss: 0.2227 - val_accuracy: 0.9380\n",
      "\n",
      "Epoch 00104: val_accuracy did not improve from 0.94186\n",
      "Epoch 105/120\n",
      "9/9 [==============================] - 18s 2s/step - loss: 0.1409 - accuracy: 0.9505 - val_loss: 0.2587 - val_accuracy: 0.9109\n",
      "\n",
      "Epoch 00105: val_accuracy did not improve from 0.94186\n",
      "Epoch 106/120\n",
      "9/9 [==============================] - 18s 2s/step - loss: 0.1714 - accuracy: 0.9205 - val_loss: 0.3304 - val_accuracy: 0.8488\n",
      "\n",
      "Epoch 00106: val_accuracy did not improve from 0.94186\n",
      "Epoch 107/120\n",
      "9/9 [==============================] - 18s 2s/step - loss: 0.1818 - accuracy: 0.9214 - val_loss: 0.2637 - val_accuracy: 0.9070\n",
      "\n",
      "Epoch 00107: val_accuracy did not improve from 0.94186\n",
      "Epoch 108/120\n",
      "9/9 [==============================] - 18s 2s/step - loss: 0.2177 - accuracy: 0.9146 - val_loss: 0.2672 - val_accuracy: 0.8837\n",
      "\n",
      "Epoch 00108: val_accuracy did not improve from 0.94186\n",
      "Epoch 109/120\n",
      "9/9 [==============================] - 18s 2s/step - loss: 0.1827 - accuracy: 0.9146 - val_loss: 0.2419 - val_accuracy: 0.8915\n",
      "\n",
      "Epoch 00109: val_accuracy did not improve from 0.94186\n",
      "Epoch 110/120\n",
      "9/9 [==============================] - 18s 2s/step - loss: 0.1259 - accuracy: 0.9505 - val_loss: 0.2706 - val_accuracy: 0.9070\n",
      "\n",
      "Epoch 00110: val_accuracy did not improve from 0.94186\n",
      "Epoch 111/120\n",
      "9/9 [==============================] - 18s 2s/step - loss: 0.1308 - accuracy: 0.9515 - val_loss: 0.2899 - val_accuracy: 0.9031\n",
      "\n",
      "Epoch 00111: val_accuracy did not improve from 0.94186\n",
      "Epoch 112/120\n",
      "9/9 [==============================] - 18s 2s/step - loss: 0.1806 - accuracy: 0.9379 - val_loss: 0.3561 - val_accuracy: 0.8760\n",
      "\n",
      "Epoch 00112: val_accuracy did not improve from 0.94186\n",
      "Epoch 113/120\n",
      "9/9 [==============================] - 18s 2s/step - loss: 0.1507 - accuracy: 0.9399 - val_loss: 0.2146 - val_accuracy: 0.9225\n",
      "\n",
      "Epoch 00113: val_accuracy did not improve from 0.94186\n",
      "Epoch 114/120\n",
      "9/9 [==============================] - 18s 2s/step - loss: 0.0870 - accuracy: 0.9661 - val_loss: 0.2406 - val_accuracy: 0.9109\n",
      "\n",
      "Epoch 00114: val_accuracy did not improve from 0.94186\n",
      "Epoch 115/120\n",
      "9/9 [==============================] - 18s 2s/step - loss: 0.1224 - accuracy: 0.9525 - val_loss: 0.3566 - val_accuracy: 0.8876\n",
      "\n",
      "Epoch 00115: val_accuracy did not improve from 0.94186\n",
      "Epoch 116/120\n",
      "9/9 [==============================] - 18s 2s/step - loss: 0.2430 - accuracy: 0.9098 - val_loss: 0.3928 - val_accuracy: 0.8372\n",
      "\n",
      "Epoch 00116: val_accuracy did not improve from 0.94186\n",
      "Epoch 117/120\n",
      "9/9 [==============================] - 18s 2s/step - loss: 0.1907 - accuracy: 0.9263 - val_loss: 0.2691 - val_accuracy: 0.8876\n",
      "\n",
      "Epoch 00117: val_accuracy did not improve from 0.94186\n",
      "Epoch 118/120\n",
      "9/9 [==============================] - 18s 2s/step - loss: 0.1117 - accuracy: 0.9573 - val_loss: 0.3151 - val_accuracy: 0.9186\n",
      "\n",
      "Epoch 00118: val_accuracy did not improve from 0.94186\n",
      "Epoch 119/120\n",
      "9/9 [==============================] - 18s 2s/step - loss: 0.1157 - accuracy: 0.9573 - val_loss: 0.3139 - val_accuracy: 0.8953\n",
      "\n",
      "Epoch 00119: val_accuracy did not improve from 0.94186\n",
      "Epoch 120/120\n",
      "9/9 [==============================] - 18s 2s/step - loss: 0.1576 - accuracy: 0.9399 - val_loss: 0.2617 - val_accuracy: 0.8915\n",
      "\n",
      "Epoch 00120: val_accuracy did not improve from 0.94186\n",
      "Training completed in time:  0:36:14.235343\n"
     ]
    }
   ],
   "source": [
    "# train model\n",
    "num_epochs = 120\n",
    "num_batch_size = 128\n",
    "\n",
    "callbacks = [\n",
    "    ModelCheckpoint(\n",
    "        filepath='mymodel2_{epoch:02d}.h5',\n",
    "        # Path where to save the model\n",
    "        # The two parameters below mean that we will overwrite\n",
    "        # the current checkpoint if and only if\n",
    "        # the `val_accuracy` score has improved.\n",
    "        save_best_only=True,\n",
    "        monitor='val_accuracy',\n",
    "        verbose=1)\n",
    "]\n",
    "start = datetime.now()\n",
    "\n",
    "history=model.fit(x_train, y_train, batch_size=num_batch_size, epochs=num_epochs,\n",
    "          validation_data=(x_test, y_test), callbacks=callbacks, verbose=1)\n",
    "\n",
    "\n",
    "duration = datetime.now() - start\n",
    "print(\"Training completed in time: \", duration)\n"
   ]
  },
  {
   "cell_type": "code",
   "execution_count": 30,
   "metadata": {},
   "outputs": [
    {
     "name": "stdout",
     "output_type": "stream",
     "text": [
      "Training Accuracy:  0.9709020256996155\n",
      "Testing Accuracy:  0.8914728760719299\n"
     ]
    }
   ],
   "source": [
    "# Evaluating the model on the training and testing set\n",
    "score = model.evaluate(x_train, y_train, verbose=0)\n",
    "print(\"Training Accuracy: \", score[1])\n",
    "\n",
    "score = model.evaluate(x_test, y_test, verbose=0)\n",
    "print(\"Testing Accuracy: \", score[1])"
   ]
  },
  {
   "cell_type": "code",
   "execution_count": 31,
   "metadata": {},
   "outputs": [],
   "source": [
    "preds = model.predict(x_test) # label scores \n",
    "\n",
    "classpreds = np.argmax(preds, axis=1) # predicted classes \n",
    "\n",
    "y_testclass = np.argmax(y_test, axis=1) # true classes\n",
    "\n",
    "n_classes=3 # number of classes"
   ]
  },
  {
   "cell_type": "markdown",
   "metadata": {},
   "source": [
    "# Summarize History for Loss"
   ]
  },
  {
   "cell_type": "code",
   "execution_count": 32,
   "metadata": {},
   "outputs": [
    {
     "data": {
      "image/png": "[encoded data removed]",
      "text/plain": [
       "<Figure size 432x288 with 1 Axes>"
      ]
     },
     "metadata": {
      "needs_background": "light"
     },
     "output_type": "display_data"
    }
   ],
   "source": [
    "plt.plot(history.history['loss'])\n",
    "plt.plot(history.history['val_loss'])\n",
    "plt.title('model loss')\n",
    "plt.ylabel('loss')\n",
    "plt.xlabel('epoch')\n",
    "plt.legend(['train', 'test'], loc='upper left')\n",
    "plt.show()"
   ]
  },
  {
   "cell_type": "markdown",
   "metadata": {},
   "source": [
    "# Summarize History for accuracy"
   ]
  },
  {
   "cell_type": "code",
   "execution_count": 33,
   "metadata": {},
   "outputs": [
    {
     "data": {
      "image/png": "[encoded data removed]",
      "text/plain": [
       "<Figure size 432x288 with 1 Axes>"
      ]
     },
     "metadata": {
      "needs_background": "light"
     },
     "output_type": "display_data"
    }
   ],
   "source": [
    "plt.plot(history.history['accuracy'])\n",
    "plt.plot(history.history['val_accuracy'])\n",
    "plt.title('model accuracy')\n",
    "plt.ylabel('accuracy')\n",
    "plt.xlabel('epoch')\n",
    "plt.legend(['train', 'test'], loc='upper left')\n",
    "plt.show()"
   ]
  },
  {
   "cell_type": "code",
   "execution_count": 34,
   "metadata": {},
   "outputs": [],
   "source": [
    "# Compute ROC curve and ROC area for each class\n",
    "fpr = dict()\n",
    "tpr = dict()\n",
    "roc_auc = dict()\n",
    "for i in range(n_classes):\n",
    "    fpr[i], tpr[i], _ = roc_curve(y_test[:, i], preds[:, i])\n",
    "    roc_auc[i] = auc(fpr[i], tpr[i])"
   ]
  },
  {
   "cell_type": "code",
   "execution_count": 35,
   "metadata": {},
   "outputs": [],
   "source": [
    "c_names = ['Bronchiectasis', 'Bronchiolitis', 'COPD', 'Healthy', 'Pneumonia', 'URTI']\n",
    "c_names2=[\"Chronic\",'Healthy','Non Chronic']"
   ]
  },
  {
   "cell_type": "code",
   "execution_count": 36,
   "metadata": {},
   "outputs": [
    {
     "data": {
      "image/png": "[encoded data removed]",
      "text/plain": [
       "<Figure size 1152x720 with 1 Axes>"
      ]
     },
     "metadata": {
      "needs_background": "light"
     },
     "output_type": "display_data"
    }
   ],
   "source": [
    "# Plot ROC curves\n",
    "fig, ax = plt.subplots(figsize=(16, 10))\n",
    "ax.plot([0, 1], [0, 1], 'k--')\n",
    "ax.set_xlim([0.0, 1.0])\n",
    "ax.set_ylim([0.0, 1.05])\n",
    "ax.set_xlabel('False Positive Rate')\n",
    "ax.set_ylabel('True Positive Rate')\n",
    "ax.set_title('ROC Curve for Each Class')\n",
    "for i in range(n_classes):\n",
    "    ax.plot(fpr[i], tpr[i], linewidth=3, label='ROC curve (area = %0.2f) for %s' % (roc_auc[i], c_names2[i]))\n",
    "ax.legend(loc=\"best\", fontsize='x-large')\n",
    "ax.grid(alpha=.4)\n",
    "sns.despine()\n",
    "plt.show()"
   ]
  },
  {
   "cell_type": "code",
   "execution_count": 37,
   "metadata": {},
   "outputs": [
    {
     "name": "stdout",
     "output_type": "stream",
     "text": [
      "              precision    recall  f1-score   support\n",
      "\n",
      "     Chronic       0.91      0.97      0.94       159\n",
      "     Healthy       0.81      0.75      0.78        28\n",
      " Non Chronic       0.89      0.76      0.82        71\n",
      "\n",
      "    accuracy                           0.89       258\n",
      "   macro avg       0.87      0.83      0.85       258\n",
      "weighted avg       0.89      0.89      0.89       258\n",
      "\n"
     ]
    }
   ],
   "source": [
    "# Classification Report\n",
    "print(classification_report(y_testclass, classpreds, target_names=c_names2))"
   ]
  },
  {
   "cell_type": "code",
   "execution_count": 38,
   "metadata": {},
   "outputs": [
    {
     "name": "stdout",
     "output_type": "stream",
     "text": [
      "[[155   0   4]\n",
      " [  4  21   3]\n",
      " [ 12   5  54]]\n"
     ]
    }
   ],
   "source": [
    "# Confusion Matrix\n",
    "print(confusion_matrix(y_testclass, classpreds))"
   ]
  }
 ],
 "metadata": {
  "kernelspec": {
   "display_name": "Python 3",
   "language": "python",
   "name": "python3"
  },
  "language_info": {
   "codemirror_mode": {
    "name": "ipython",
    "version": 3
   },
   "file_extension": ".py",
   "mimetype": "text/x-python",
   "name": "python",
   "nbconvert_exporter": "python",
   "pygments_lexer": "ipython3",
   "version": "3.8.3"
  }
 },
 "nbformat": 4,
 "nbformat_minor": 4
}
