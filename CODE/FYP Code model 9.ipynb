{
 "cells": [
  {
   "cell_type": "markdown",
   "metadata": {},
   "source": [
    "# Importing required Libraries"
   ]
  },
  {
   "cell_type": "code",
   "execution_count": 1,
   "metadata": {},
   "outputs": [],
   "source": [
    "from datetime import datetime\n",
    "import os\n",
    "from os import listdir\n",
    "from os.path import isfile, join\n",
    "\n",
    "import librosa\n",
    "import librosa.display\n",
    "\n",
    "import numpy as np\n",
    "import pandas as pd\n",
    "\n",
    "from tensorflow.keras.models import Sequential\n",
    "from tensorflow.keras.layers import Dense, Dropout, Conv2D, MaxPooling2D, GlobalAveragePooling2D\n",
    "from keras.utils import to_categorical\n",
    "from tensorflow.keras.callbacks import ModelCheckpoint\n",
    "\n",
    "from scipy import signal\n",
    "from sklearn.metrics import confusion_matrix, classification_report, roc_curve, auc\n",
    "from sklearn.model_selection import train_test_split\n",
    "from sklearn.preprocessing import LabelEncoder\n",
    "\n",
    "import matplotlib.pyplot as plt\n",
    "import seaborn as sns"
   ]
  },
  {
   "cell_type": "markdown",
   "metadata": {},
   "source": [
    "# Importing Files"
   ]
  },
  {
   "cell_type": "code",
   "execution_count": 2,
   "metadata": {},
   "outputs": [
    {
     "data": {
      "text/plain": [
       "'/Users/ad/Downloads/FYP'"
      ]
     },
     "execution_count": 2,
     "metadata": {},
     "output_type": "execute_result"
    }
   ],
   "source": [
    "pwd"
   ]
  },
  {
   "cell_type": "code",
   "execution_count": 3,
   "metadata": {},
   "outputs": [],
   "source": [
    "mypath ='/Users/ad/Downloads/FYP/audio_and_txt_files/'\n",
    "filenames = [f for f in listdir(mypath) if (isfile(join(mypath, f)) and f.endswith('.wav'))]"
   ]
  },
  {
   "cell_type": "code",
   "execution_count": 4,
   "metadata": {},
   "outputs": [],
   "source": [
    "p_id_in_file = [] # patient IDs corresponding to each file\n",
    "for name in filenames:\n",
    "    p_id_in_file.append(int(name[:3]))\n",
    "\n",
    "p_id_in_file = np.array(p_id_in_file)"
   ]
  },
  {
   "cell_type": "markdown",
   "metadata": {},
   "source": [
    "# Creating functions for data Augmentation"
   ]
  },
  {
   "cell_type": "code",
   "execution_count": 5,
   "metadata": {},
   "outputs": [],
   "source": [
    "def shift(data, shift_max=2, shift_direction='right'):\n",
    "    shift = np.random.randint(22050 * shift_max)\n",
    "    if shift_direction == 'right':\n",
    "        shift = -shift\n",
    "    elif self.shift_direction == 'both':\n",
    "        direction = np.random.randint(0, 2)\n",
    "        if direction == 1:\n",
    "            shift = -shift\n",
    "    audio, sample_rate = librosa.load(data, res_type='kaiser_fast', duration=20) \n",
    "    b, a = signal.butter(6, [100/sample_rate,5000/sample_rate], 'bandpass', analog=False)\n",
    "    f = signal.filtfilt(b, a, audio)\n",
    "    augmented_data = np.roll(f, shift)\n",
    "    # Set to silence for heading/ tailing\n",
    "    if shift > 0:\n",
    "        augmented_data[:shift] = 0\n",
    "    else:\n",
    "        augmented_data[shift:] = 0\n",
    "    mfccs = librosa.feature.mfcc(y=augmented_data, sr=sample_rate, n_mfcc=40)\n",
    "    pad_width = max_pad_len - mfccs.shape[1]\n",
    "    mfccs = np.pad(mfccs, pad_width=((0, 0), (0, pad_width)), mode='constant')\n",
    "    \n",
    "    return mfccs"
   ]
  },
  {
   "cell_type": "code",
   "execution_count": 6,
   "metadata": {},
   "outputs": [],
   "source": [
    "def pitch(data, pitch_factor=2):\n",
    "    audio, sample_rate = librosa.load(data, res_type='kaiser_fast', duration=20) \n",
    "    audio=librosa.effects.pitch_shift(audio, sample_rate, pitch_factor)\n",
    "    b, a = signal.butter(6, [100/sample_rate,5000/sample_rate], 'bandpass', analog=False)\n",
    "    f = signal.filtfilt(b, a, audio)\n",
    "    mfccs = librosa.feature.mfcc(y=f, sr=sample_rate, n_mfcc=40)\n",
    "    pad_width = max_pad_len - mfccs.shape[1]\n",
    "    mfccs = np.pad(mfccs, pad_width=((0, 0), (0, pad_width)), mode='constant')\n",
    "    return mfccs"
   ]
  },
  {
   "cell_type": "code",
   "execution_count": 7,
   "metadata": {},
   "outputs": [],
   "source": [
    "def speed(data, speed_factor=2):\n",
    "    audio, sample_rate = librosa.load(data, res_type='kaiser_fast', duration=20)\n",
    "    audio=librosa.effects.time_stretch(audio, speed_factor)\n",
    "    b, a = signal.butter(6, [100/sample_rate,5000/sample_rate], 'bandpass', analog=False)\n",
    "    f = signal.filtfilt(b, a, audio)\n",
    "    mfccs = librosa.feature.mfcc(y=f, sr=sample_rate, n_mfcc=40)\n",
    "    pad_width = max_pad_len - mfccs.shape[1]\n",
    "    mfccs = np.pad(mfccs, pad_width=((0, 0), (0, pad_width)), mode='constant')\n",
    "    return mfccs"
   ]
  },
  {
   "cell_type": "code",
   "execution_count": 8,
   "metadata": {},
   "outputs": [],
   "source": [
    "max_pad_len = 862 # to make the length of all MFCC equal\n",
    "\n",
    "def extract_features(file_name):\n",
    "    \"\"\"\n",
    "    This function takes in the path for an audio file as a string, loads it, and returns the MFCC\n",
    "    of the audio\"\"\"\n",
    "   \n",
    "    try:\n",
    "        audio, sample_rate = librosa.load(file_name, res_type='kaiser_fast', duration=20) \n",
    "        b, a = signal.butter(6, [100/sample_rate,5000/sample_rate], 'bandpass', analog=False)\n",
    "        f = signal.filtfilt(b, a, audio)\n",
    "        mfccs = librosa.feature.mfcc(y=f, sr=sample_rate, n_mfcc=40)\n",
    "        pad_width = max_pad_len - mfccs.shape[1]\n",
    "        mfccs = np.pad(mfccs, pad_width=((0, 0), (0, pad_width)), mode='constant')\n",
    "        \n",
    "    except Exception as e:\n",
    "        print(\"Error encountered while parsing file: \", file_name)\n",
    "        return None \n",
    "     \n",
    "    return mfccs"
   ]
  },
  {
   "cell_type": "code",
   "execution_count": 9,
   "metadata": {},
   "outputs": [],
   "source": [
    "filepaths = [join(mypath, f) for f in filenames] # full paths of files"
   ]
  },
  {
   "cell_type": "code",
   "execution_count": 10,
   "metadata": {},
   "outputs": [],
   "source": [
    "p_diag = pd.read_csv('/Users/ad/Downloads/FYP/patient_diagnosis.csv',header=None) # patient diagnosis file"
   ]
  },
  {
   "cell_type": "code",
   "execution_count": 11,
   "metadata": {},
   "outputs": [],
   "source": [
    "labels = np.array([p_diag[p_diag[0] == x][1].values[0] for x in p_id_in_file]) # labels for audio files"
   ]
  },
  {
   "cell_type": "markdown",
   "metadata": {},
   "source": [
    "# Extracting Features"
   ]
  },
  {
   "cell_type": "code",
   "execution_count": 12,
   "metadata": {},
   "outputs": [
    {
     "name": "stdout",
     "output_type": "stream",
     "text": [
      "Finished feature extraction from  920  original files\n"
     ]
    }
   ],
   "source": [
    "features = [] \n",
    "\n",
    "# Iterate through each sound file and extract the features\n",
    "for file_name in filepaths:\n",
    "    data = extract_features(file_name)\n",
    "    features.append(data)\n",
    "\n",
    "print('Finished feature extraction from ', len(features), ' original files')"
   ]
  },
  {
   "cell_type": "markdown",
   "metadata": {},
   "source": [
    "# Adding Augmented Files to data set"
   ]
  },
  {
   "cell_type": "code",
   "execution_count": 13,
   "metadata": {},
   "outputs": [
    {
     "name": "stdout",
     "output_type": "stream",
     "text": [
      "Finished feature extraction from  381 augmented files\n"
     ]
    }
   ],
   "source": [
    "labels=np.array(labels).tolist()\n",
    "for i in range (0,920):\n",
    "    if labels[i]!='COPD':\n",
    "        p=shift(filepaths[i], 2, 'right')\n",
    "        q=pitch(filepaths[i],2)\n",
    "        r=speed(filepaths[i],1.2)\n",
    "        features.append(p)\n",
    "        features.append(q)\n",
    "        features.append(r)\n",
    "        for j in range(0,3):\n",
    "            labels.append(labels[i])\n",
    "print('Finished feature extraction from ', len(features)-920, 'augmented files')"
   ]
  },
  {
   "cell_type": "code",
   "execution_count": 14,
   "metadata": {},
   "outputs": [],
   "source": [
    "features=np.array(features)\n",
    "labels=np.array(labels)"
   ]
  },
  {
   "cell_type": "code",
   "execution_count": 15,
   "metadata": {},
   "outputs": [
    {
     "data": {
      "image/png": "[encoded data removed]",
      "text/plain": [
       "<Figure size 720x288 with 2 Axes>"
      ]
     },
     "metadata": {
      "needs_background": "light"
     },
     "output_type": "display_data"
    }
   ],
   "source": [
    "#plot an MFCC\n",
    "plt.figure(figsize=(10, 4))\n",
    "librosa.display.specshow(features[100], x_axis='time')\n",
    "plt.colorbar()\n",
    "plt.title('MFCC')\n",
    "plt.tight_layout()\n",
    "plt.show()"
   ]
  },
  {
   "cell_type": "code",
   "execution_count": 16,
   "metadata": {},
   "outputs": [
    {
     "name": "stdout",
     "output_type": "stream",
     "text": [
      "[['Asthma' 'Bronchiectasis' 'Bronchiolitis' 'COPD' 'Healthy' 'LRTI'\n",
      "  'Pneumonia' 'URTI']\n",
      " ['4' '64' '52' '793' '140' '8' '148' '92']]\n"
     ]
    }
   ],
   "source": [
    "# print class counts\n",
    "unique_elements, counts_elements = np.unique(labels, return_counts=True)\n",
    "print(np.asarray((unique_elements, counts_elements)))"
   ]
  },
  {
   "cell_type": "code",
   "execution_count": 17,
   "metadata": {},
   "outputs": [
    {
     "data": {
      "image/png": "[encoded data removed]",
      "text/plain": [
       "<Figure size 864x576 with 1 Axes>"
      ]
     },
     "metadata": {
      "needs_background": "light"
     },
     "output_type": "display_data"
    }
   ],
   "source": [
    "# plot class counts\n",
    "y_pos = np.arange(len(unique_elements))\n",
    "plt.figure(figsize=(12,8))\n",
    "plt.bar(unique_elements, counts_elements, align='center', alpha=0.5)\n",
    "plt.xticks(y_pos, unique_elements)\n",
    "plt.ylabel('Count')\n",
    "plt.xlabel('Disease')\n",
    "plt.title('Disease Count in Sound Files')\n",
    "plt.show()"
   ]
  },
  {
   "cell_type": "markdown",
   "metadata": {},
   "source": [
    "# Remove the data with least cases"
   ]
  },
  {
   "cell_type": "code",
   "execution_count": 18,
   "metadata": {},
   "outputs": [],
   "source": [
    "features1 = np.delete(features, np.where((labels == 'Asthma') | (labels == 'LRTI'))[0], axis=0) \n",
    "\n",
    "labels1 = np.delete(labels, np.where((labels == 'Asthma') | (labels == 'LRTI'))[0], axis=0)"
   ]
  },
  {
   "cell_type": "markdown",
   "metadata": {},
   "source": [
    "# Designing Neural Network"
   ]
  },
  {
   "cell_type": "code",
   "execution_count": 19,
   "metadata": {},
   "outputs": [],
   "source": [
    "# One-hot encode labels\n",
    "le = LabelEncoder()\n",
    "i_labels = le.fit_transform(labels1)\n",
    "i_labels=np.array(i_labels).tolist()\n"
   ]
  },
  {
   "cell_type": "code",
   "execution_count": 20,
   "metadata": {},
   "outputs": [],
   "source": [
    "for i in range(0,1289):\n",
    "    if i_labels[i] ==2:\n",
    "        i_labels[i]= 0\n",
    "    elif i_labels[i]==3:\n",
    "        i_labels[i]= 1\n",
    "    else:\n",
    "        i_labels[i]=2\n"
   ]
  },
  {
   "cell_type": "code",
   "execution_count": 21,
   "metadata": {},
   "outputs": [],
   "source": [
    "i_labels=np.array(i_labels)\n",
    "oh_labels = to_categorical(i_labels)"
   ]
  },
  {
   "cell_type": "code",
   "execution_count": 22,
   "metadata": {},
   "outputs": [],
   "source": [
    "# add channel dimension for CNN\n",
    "features1 = np.reshape(features1, (*features1.shape,1))"
   ]
  },
  {
   "cell_type": "code",
   "execution_count": 23,
   "metadata": {},
   "outputs": [],
   "source": [
    "# train test split\n",
    "x_train, x_test, y_train, y_test = train_test_split(features1, oh_labels, stratify=oh_labels, \n",
    "                                                    test_size=0.2, random_state = 42)"
   ]
  },
  {
   "cell_type": "code",
   "execution_count": 24,
   "metadata": {},
   "outputs": [],
   "source": [
    "num_rows = 40\n",
    "num_columns = 862\n",
    "num_channels = 1\n",
    "\n",
    "num_labels = oh_labels.shape[1]\n",
    "filter_size = 2\n",
    "\n",
    "# Construct model \n",
    "model = Sequential()\n",
    "model.add(Conv2D(filters=64, kernel_size=filter_size,\n",
    "                 input_shape=(num_rows, num_columns, num_channels), activation='relu'))\n",
    "model.add(MaxPooling2D(pool_size=2))\n",
    "model.add(Dropout(0.2))\n",
    "\n",
    "model.add(Conv2D(filters=64, kernel_size=filter_size, activation='relu'))\n",
    "model.add(MaxPooling2D(pool_size=2))\n",
    "model.add(Dropout(0.2))\n",
    "\n",
    "model.add(Conv2D(filters=96, kernel_size=filter_size, activation='relu'))\n",
    "model.add(MaxPooling2D(pool_size=2))\n",
    "model.add(Dropout(0.2))\n",
    "\n",
    "model.add(Conv2D(filters=96, kernel_size=filter_size, activation='relu'))\n",
    "model.add(MaxPooling2D(pool_size=2))\n",
    "model.add(Dropout(0.2))\n",
    "\n",
    "model.add(GlobalAveragePooling2D())\n",
    "model.add(Dense(128))\n",
    "model.add(Dense(64))\n",
    "model.add(Dense(32))\n",
    "model.add(Dense(16))\n",
    "model.add(Dropout(0.4))\n",
    "\n",
    "model.add(Dense(num_labels, activation='softmax'))"
   ]
  },
  {
   "cell_type": "code",
   "execution_count": 25,
   "metadata": {},
   "outputs": [],
   "source": [
    "# Compile the model\n",
    "model.compile(loss='categorical_crossentropy', metrics=['accuracy'], optimizer='adam')"
   ]
  },
  {
   "cell_type": "code",
   "execution_count": 26,
   "metadata": {},
   "outputs": [
    {
     "name": "stdout",
     "output_type": "stream",
     "text": [
      "Model: \"sequential\"\n",
      "_________________________________________________________________\n",
      "Layer (type)                 Output Shape              Param #   \n",
      "=================================================================\n",
      "conv2d (Conv2D)              (None, 39, 861, 64)       320       \n",
      "_________________________________________________________________\n",
      "max_pooling2d (MaxPooling2D) (None, 19, 430, 64)       0         \n",
      "_________________________________________________________________\n",
      "dropout (Dropout)            (None, 19, 430, 64)       0         \n",
      "_________________________________________________________________\n",
      "conv2d_1 (Conv2D)            (None, 18, 429, 64)       16448     \n",
      "_________________________________________________________________\n",
      "max_pooling2d_1 (MaxPooling2 (None, 9, 214, 64)        0         \n",
      "_________________________________________________________________\n",
      "dropout_1 (Dropout)          (None, 9, 214, 64)        0         \n",
      "_________________________________________________________________\n",
      "conv2d_2 (Conv2D)            (None, 8, 213, 96)        24672     \n",
      "_________________________________________________________________\n",
      "max_pooling2d_2 (MaxPooling2 (None, 4, 106, 96)        0         \n",
      "_________________________________________________________________\n",
      "dropout_2 (Dropout)          (None, 4, 106, 96)        0         \n",
      "_________________________________________________________________\n",
      "conv2d_3 (Conv2D)            (None, 3, 105, 96)        36960     \n",
      "_________________________________________________________________\n",
      "max_pooling2d_3 (MaxPooling2 (None, 1, 52, 96)         0         \n",
      "_________________________________________________________________\n",
      "dropout_3 (Dropout)          (None, 1, 52, 96)         0         \n",
      "_________________________________________________________________\n",
      "global_average_pooling2d (Gl (None, 96)                0         \n",
      "_________________________________________________________________\n",
      "dense (Dense)                (None, 128)               12416     \n",
      "_________________________________________________________________\n",
      "dense_1 (Dense)              (None, 64)                8256      \n",
      "_________________________________________________________________\n",
      "dense_2 (Dense)              (None, 32)                2080      \n",
      "_________________________________________________________________\n",
      "dense_3 (Dense)              (None, 16)                528       \n",
      "_________________________________________________________________\n",
      "dropout_4 (Dropout)          (None, 16)                0         \n",
      "_________________________________________________________________\n",
      "dense_4 (Dense)              (None, 3)                 51        \n",
      "=================================================================\n",
      "Total params: 101,731\n",
      "Trainable params: 101,731\n",
      "Non-trainable params: 0\n",
      "_________________________________________________________________\n",
      "9/9 [==============================] - 2s 145ms/step - loss: 25.9480 - accuracy: 0.1076\n",
      "Pre-training accuracy: 10.8527%\n"
     ]
    }
   ],
   "source": [
    "# Display model architecture summary \n",
    "model.summary()\n",
    "\n",
    "# Calculate pre-training accuracy \n",
    "score = model.evaluate(x_test, y_test, verbose=1)\n",
    "accuracy = 100*score[1]\n",
    "\n",
    "print(\"Pre-training accuracy: %.4f%%\" % accuracy)"
   ]
  },
  {
   "cell_type": "markdown",
   "metadata": {},
   "source": [
    "# Training the model"
   ]
  },
  {
   "cell_type": "code",
   "execution_count": 27,
   "metadata": {},
   "outputs": [
    {
     "name": "stdout",
     "output_type": "stream",
     "text": [
      "Epoch 1/120\n",
      "9/9 [==============================] - 22s 2s/step - loss: 24.6528 - accuracy: 0.4733 - val_loss: 1.0401 - val_accuracy: 0.6124\n",
      "\n",
      "Epoch 00001: val_accuracy improved from -inf to 0.61240, saving model to mymodel2_01.h5\n",
      "Epoch 2/120\n",
      "9/9 [==============================] - 22s 2s/step - loss: 2.6407 - accuracy: 0.5432 - val_loss: 0.8921 - val_accuracy: 0.7481\n",
      "\n",
      "Epoch 00002: val_accuracy improved from 0.61240 to 0.74806, saving model to mymodel2_02.h5\n",
      "Epoch 3/120\n",
      "9/9 [==============================] - 22s 2s/step - loss: 1.2675 - accuracy: 0.6072 - val_loss: 0.7827 - val_accuracy: 0.6628\n",
      "\n",
      "Epoch 00003: val_accuracy did not improve from 0.74806\n",
      "Epoch 4/120\n",
      "9/9 [==============================] - 21s 2s/step - loss: 0.7793 - accuracy: 0.7158 - val_loss: 0.7665 - val_accuracy: 0.6357\n",
      "\n",
      "Epoch 00004: val_accuracy did not improve from 0.74806\n",
      "Epoch 5/120\n",
      "9/9 [==============================] - 23s 3s/step - loss: 0.7050 - accuracy: 0.6974 - val_loss: 0.7013 - val_accuracy: 0.7364\n",
      "\n",
      "Epoch 00005: val_accuracy did not improve from 0.74806\n",
      "Epoch 6/120\n",
      "9/9 [==============================] - 23s 3s/step - loss: 0.6909 - accuracy: 0.7430 - val_loss: 0.7367 - val_accuracy: 0.6124\n",
      "\n",
      "Epoch 00006: val_accuracy did not improve from 0.74806\n",
      "Epoch 7/120\n",
      "9/9 [==============================] - 22s 2s/step - loss: 0.6513 - accuracy: 0.7323 - val_loss: 0.6961 - val_accuracy: 0.6279\n",
      "\n",
      "Epoch 00007: val_accuracy did not improve from 0.74806\n",
      "Epoch 8/120\n",
      "9/9 [==============================] - 22s 2s/step - loss: 0.6575 - accuracy: 0.7032 - val_loss: 0.6170 - val_accuracy: 0.7558\n",
      "\n",
      "Epoch 00008: val_accuracy improved from 0.74806 to 0.75581, saving model to mymodel2_08.h5\n",
      "Epoch 9/120\n",
      "9/9 [==============================] - 21s 2s/step - loss: 0.6782 - accuracy: 0.7148 - val_loss: 0.6255 - val_accuracy: 0.6899\n",
      "\n",
      "Epoch 00009: val_accuracy did not improve from 0.75581\n",
      "Epoch 10/120\n",
      "9/9 [==============================] - 21s 2s/step - loss: 0.6533 - accuracy: 0.7536 - val_loss: 0.7073 - val_accuracy: 0.6124\n",
      "\n",
      "Epoch 00010: val_accuracy did not improve from 0.75581\n",
      "Epoch 11/120\n",
      "9/9 [==============================] - 23s 3s/step - loss: 0.5800 - accuracy: 0.7420 - val_loss: 0.5878 - val_accuracy: 0.7364\n",
      "\n",
      "Epoch 00011: val_accuracy did not improve from 0.75581\n",
      "Epoch 12/120\n",
      "9/9 [==============================] - 24s 3s/step - loss: 0.5876 - accuracy: 0.7498 - val_loss: 0.5979 - val_accuracy: 0.7248\n",
      "\n",
      "Epoch 00012: val_accuracy did not improve from 0.75581\n",
      "Epoch 13/120\n",
      "9/9 [==============================] - 22s 2s/step - loss: 0.5682 - accuracy: 0.7575 - val_loss: 0.5895 - val_accuracy: 0.7016\n",
      "\n",
      "Epoch 00013: val_accuracy did not improve from 0.75581\n",
      "Epoch 14/120\n",
      "9/9 [==============================] - 25s 3s/step - loss: 0.5593 - accuracy: 0.7624 - val_loss: 0.6330 - val_accuracy: 0.6783\n",
      "\n",
      "Epoch 00014: val_accuracy did not improve from 0.75581\n",
      "Epoch 15/120\n",
      "9/9 [==============================] - 23s 2s/step - loss: 0.5571 - accuracy: 0.7536 - val_loss: 0.6340 - val_accuracy: 0.6977\n",
      "\n",
      "Epoch 00015: val_accuracy did not improve from 0.75581\n",
      "Epoch 16/120\n",
      "9/9 [==============================] - 21s 2s/step - loss: 0.5209 - accuracy: 0.7818 - val_loss: 0.6120 - val_accuracy: 0.7016\n",
      "\n",
      "Epoch 00016: val_accuracy did not improve from 0.75581\n",
      "Epoch 17/120\n",
      "9/9 [==============================] - 21s 2s/step - loss: 0.5086 - accuracy: 0.7750 - val_loss: 0.5365 - val_accuracy: 0.7481\n",
      "\n",
      "Epoch 00017: val_accuracy did not improve from 0.75581\n",
      "Epoch 18/120\n",
      "9/9 [==============================] - 21s 2s/step - loss: 0.5053 - accuracy: 0.7769 - val_loss: 0.6277 - val_accuracy: 0.6705\n",
      "\n",
      "Epoch 00018: val_accuracy did not improve from 0.75581\n",
      "Epoch 19/120\n",
      "9/9 [==============================] - 21s 2s/step - loss: 0.5593 - accuracy: 0.7507 - val_loss: 0.5463 - val_accuracy: 0.7558\n",
      "\n",
      "Epoch 00019: val_accuracy did not improve from 0.75581\n",
      "Epoch 20/120\n",
      "9/9 [==============================] - 22s 2s/step - loss: 0.5901 - accuracy: 0.7527 - val_loss: 0.5915 - val_accuracy: 0.7016\n",
      "\n",
      "Epoch 00020: val_accuracy did not improve from 0.75581\n",
      "Epoch 21/120\n",
      "9/9 [==============================] - 22s 2s/step - loss: 0.5034 - accuracy: 0.7847 - val_loss: 0.6544 - val_accuracy: 0.6550\n",
      "\n",
      "Epoch 00021: val_accuracy did not improve from 0.75581\n",
      "Epoch 22/120\n",
      "9/9 [==============================] - 22s 2s/step - loss: 0.5009 - accuracy: 0.7721 - val_loss: 0.5862 - val_accuracy: 0.7016\n",
      "\n",
      "Epoch 00022: val_accuracy did not improve from 0.75581\n",
      "Epoch 23/120\n",
      "9/9 [==============================] - 22s 2s/step - loss: 0.5057 - accuracy: 0.7934 - val_loss: 0.7129 - val_accuracy: 0.6395\n",
      "\n",
      "Epoch 00023: val_accuracy did not improve from 0.75581\n",
      "Epoch 24/120\n",
      "9/9 [==============================] - 23s 2s/step - loss: 0.4827 - accuracy: 0.7953 - val_loss: 0.5547 - val_accuracy: 0.7248\n",
      "\n",
      "Epoch 00024: val_accuracy did not improve from 0.75581\n",
      "Epoch 25/120\n",
      "9/9 [==============================] - 21s 2s/step - loss: 0.4919 - accuracy: 0.7798 - val_loss: 0.5346 - val_accuracy: 0.7674\n",
      "\n",
      "Epoch 00025: val_accuracy improved from 0.75581 to 0.76744, saving model to mymodel2_25.h5\n",
      "Epoch 26/120\n",
      "9/9 [==============================] - 21s 2s/step - loss: 0.4844 - accuracy: 0.7827 - val_loss: 0.4541 - val_accuracy: 0.7829\n",
      "\n",
      "Epoch 00026: val_accuracy improved from 0.76744 to 0.78295, saving model to mymodel2_26.h5\n",
      "Epoch 27/120\n",
      "9/9 [==============================] - 21s 2s/step - loss: 0.4837 - accuracy: 0.8002 - val_loss: 0.5462 - val_accuracy: 0.7442\n",
      "\n",
      "Epoch 00027: val_accuracy did not improve from 0.78295\n",
      "Epoch 28/120\n",
      "9/9 [==============================] - 21s 2s/step - loss: 0.4479 - accuracy: 0.8118 - val_loss: 0.4990 - val_accuracy: 0.7364\n",
      "\n",
      "Epoch 00028: val_accuracy did not improve from 0.78295\n",
      "Epoch 29/120\n",
      "9/9 [==============================] - 21s 2s/step - loss: 0.4411 - accuracy: 0.8186 - val_loss: 0.4962 - val_accuracy: 0.7481\n",
      "\n",
      "Epoch 00029: val_accuracy did not improve from 0.78295\n",
      "Epoch 30/120\n",
      "9/9 [==============================] - 21s 2s/step - loss: 0.4467 - accuracy: 0.8099 - val_loss: 0.5289 - val_accuracy: 0.7442\n",
      "\n",
      "Epoch 00030: val_accuracy did not improve from 0.78295\n",
      "Epoch 31/120\n",
      "9/9 [==============================] - 21s 2s/step - loss: 0.4466 - accuracy: 0.8031 - val_loss: 0.5564 - val_accuracy: 0.7481\n",
      "\n",
      "Epoch 00031: val_accuracy did not improve from 0.78295\n",
      "Epoch 32/120\n",
      "9/9 [==============================] - 21s 2s/step - loss: 0.4508 - accuracy: 0.7953 - val_loss: 0.5381 - val_accuracy: 0.7558\n",
      "\n",
      "Epoch 00032: val_accuracy did not improve from 0.78295\n",
      "Epoch 33/120\n",
      "9/9 [==============================] - 21s 2s/step - loss: 0.4389 - accuracy: 0.8041 - val_loss: 0.4461 - val_accuracy: 0.7868\n",
      "\n",
      "Epoch 00033: val_accuracy improved from 0.78295 to 0.78682, saving model to mymodel2_33.h5\n",
      "Epoch 34/120\n",
      "9/9 [==============================] - 21s 2s/step - loss: 0.4404 - accuracy: 0.8031 - val_loss: 0.5170 - val_accuracy: 0.7829\n",
      "\n",
      "Epoch 00034: val_accuracy did not improve from 0.78682\n",
      "Epoch 35/120\n",
      "9/9 [==============================] - 21s 2s/step - loss: 0.4933 - accuracy: 0.7837 - val_loss: 0.4255 - val_accuracy: 0.8023\n",
      "\n",
      "Epoch 00035: val_accuracy improved from 0.78682 to 0.80233, saving model to mymodel2_35.h5\n",
      "Epoch 36/120\n",
      "9/9 [==============================] - 21s 2s/step - loss: 0.4542 - accuracy: 0.8080 - val_loss: 0.7070 - val_accuracy: 0.7093\n",
      "\n",
      "Epoch 00036: val_accuracy did not improve from 0.80233\n",
      "Epoch 37/120\n",
      "9/9 [==============================] - 21s 2s/step - loss: 0.4350 - accuracy: 0.7934 - val_loss: 0.4842 - val_accuracy: 0.7636\n",
      "\n",
      "Epoch 00037: val_accuracy did not improve from 0.80233\n",
      "Epoch 38/120\n",
      "9/9 [==============================] - 21s 2s/step - loss: 0.4073 - accuracy: 0.8215 - val_loss: 0.4340 - val_accuracy: 0.7868\n",
      "\n",
      "Epoch 00038: val_accuracy did not improve from 0.80233\n",
      "Epoch 39/120\n",
      "9/9 [==============================] - 22s 2s/step - loss: 0.4435 - accuracy: 0.8080 - val_loss: 0.4232 - val_accuracy: 0.8023\n",
      "\n",
      "Epoch 00039: val_accuracy did not improve from 0.80233\n",
      "Epoch 40/120\n",
      "9/9 [==============================] - 25s 3s/step - loss: 0.4217 - accuracy: 0.8293 - val_loss: 0.6005 - val_accuracy: 0.7287\n",
      "\n",
      "Epoch 00040: val_accuracy did not improve from 0.80233\n",
      "Epoch 41/120\n",
      "9/9 [==============================] - 23s 3s/step - loss: 0.4039 - accuracy: 0.8225 - val_loss: 0.6787 - val_accuracy: 0.7016\n"
     ]
    },
    {
     "name": "stdout",
     "output_type": "stream",
     "text": [
      "\n",
      "Epoch 00041: val_accuracy did not improve from 0.80233\n",
      "Epoch 42/120\n",
      "9/9 [==============================] - 22s 2s/step - loss: 0.3733 - accuracy: 0.8351 - val_loss: 0.4587 - val_accuracy: 0.7829\n",
      "\n",
      "Epoch 00042: val_accuracy did not improve from 0.80233\n",
      "Epoch 43/120\n",
      "9/9 [==============================] - 21s 2s/step - loss: 0.3777 - accuracy: 0.8419 - val_loss: 0.6032 - val_accuracy: 0.7364\n",
      "\n",
      "Epoch 00043: val_accuracy did not improve from 0.80233\n",
      "Epoch 44/120\n",
      "9/9 [==============================] - 21s 2s/step - loss: 0.3628 - accuracy: 0.8448 - val_loss: 0.4468 - val_accuracy: 0.7674\n",
      "\n",
      "Epoch 00044: val_accuracy did not improve from 0.80233\n",
      "Epoch 45/120\n",
      "9/9 [==============================] - 21s 2s/step - loss: 0.3810 - accuracy: 0.8303 - val_loss: 0.3989 - val_accuracy: 0.7984\n",
      "\n",
      "Epoch 00045: val_accuracy did not improve from 0.80233\n",
      "Epoch 46/120\n",
      "9/9 [==============================] - 21s 2s/step - loss: 0.3868 - accuracy: 0.8283 - val_loss: 0.4390 - val_accuracy: 0.7868\n",
      "\n",
      "Epoch 00046: val_accuracy did not improve from 0.80233\n",
      "Epoch 47/120\n",
      "9/9 [==============================] - 22s 2s/step - loss: 0.3954 - accuracy: 0.8264 - val_loss: 0.4685 - val_accuracy: 0.7752\n",
      "\n",
      "Epoch 00047: val_accuracy did not improve from 0.80233\n",
      "Epoch 48/120\n",
      "9/9 [==============================] - 22s 2s/step - loss: 0.3692 - accuracy: 0.8361 - val_loss: 0.5347 - val_accuracy: 0.7636\n",
      "\n",
      "Epoch 00048: val_accuracy did not improve from 0.80233\n",
      "Epoch 49/120\n",
      "9/9 [==============================] - 21s 2s/step - loss: 0.3861 - accuracy: 0.8312 - val_loss: 0.4641 - val_accuracy: 0.7946\n",
      "\n",
      "Epoch 00049: val_accuracy did not improve from 0.80233\n",
      "Epoch 50/120\n",
      "9/9 [==============================] - 22s 2s/step - loss: 0.4024 - accuracy: 0.8244 - val_loss: 0.6025 - val_accuracy: 0.7287\n",
      "\n",
      "Epoch 00050: val_accuracy did not improve from 0.80233\n",
      "Epoch 51/120\n",
      "9/9 [==============================] - 21s 2s/step - loss: 0.3561 - accuracy: 0.8574 - val_loss: 0.7181 - val_accuracy: 0.7054\n",
      "\n",
      "Epoch 00051: val_accuracy did not improve from 0.80233\n",
      "Epoch 52/120\n",
      "9/9 [==============================] - 21s 2s/step - loss: 0.3595 - accuracy: 0.8487 - val_loss: 0.4967 - val_accuracy: 0.7713\n",
      "\n",
      "Epoch 00052: val_accuracy did not improve from 0.80233\n",
      "Epoch 53/120\n",
      "9/9 [==============================] - 23s 3s/step - loss: 0.3914 - accuracy: 0.8380 - val_loss: 0.4273 - val_accuracy: 0.8062\n",
      "\n",
      "Epoch 00053: val_accuracy improved from 0.80233 to 0.80620, saving model to mymodel2_53.h5\n",
      "Epoch 54/120\n",
      "9/9 [==============================] - 22s 2s/step - loss: 0.3575 - accuracy: 0.8429 - val_loss: 0.5313 - val_accuracy: 0.7597\n",
      "\n",
      "Epoch 00054: val_accuracy did not improve from 0.80620\n",
      "Epoch 55/120\n",
      "9/9 [==============================] - 21s 2s/step - loss: 0.4020 - accuracy: 0.8167 - val_loss: 0.3950 - val_accuracy: 0.8101\n",
      "\n",
      "Epoch 00055: val_accuracy improved from 0.80620 to 0.81008, saving model to mymodel2_55.h5\n",
      "Epoch 56/120\n",
      "9/9 [==============================] - 21s 2s/step - loss: 0.4162 - accuracy: 0.8264 - val_loss: 0.4049 - val_accuracy: 0.8101\n",
      "\n",
      "Epoch 00056: val_accuracy did not improve from 0.81008\n",
      "Epoch 57/120\n",
      "9/9 [==============================] - 21s 2s/step - loss: 0.3725 - accuracy: 0.8409 - val_loss: 0.7147 - val_accuracy: 0.6977\n",
      "\n",
      "Epoch 00057: val_accuracy did not improve from 0.81008\n",
      "Epoch 58/120\n",
      "9/9 [==============================] - 21s 2s/step - loss: 0.3561 - accuracy: 0.8419 - val_loss: 0.4932 - val_accuracy: 0.7674\n",
      "\n",
      "Epoch 00058: val_accuracy did not improve from 0.81008\n",
      "Epoch 59/120\n",
      "9/9 [==============================] - 21s 2s/step - loss: 0.3522 - accuracy: 0.8487 - val_loss: 0.5353 - val_accuracy: 0.7442\n",
      "\n",
      "Epoch 00059: val_accuracy did not improve from 0.81008\n",
      "Epoch 60/120\n",
      "9/9 [==============================] - 21s 2s/step - loss: 0.3477 - accuracy: 0.8497 - val_loss: 0.5307 - val_accuracy: 0.7674\n",
      "\n",
      "Epoch 00060: val_accuracy did not improve from 0.81008\n",
      "Epoch 61/120\n",
      "9/9 [==============================] - 21s 2s/step - loss: 0.3851 - accuracy: 0.8380 - val_loss: 0.5172 - val_accuracy: 0.7597\n",
      "\n",
      "Epoch 00061: val_accuracy did not improve from 0.81008\n",
      "Epoch 62/120\n",
      "9/9 [==============================] - 21s 2s/step - loss: 0.4016 - accuracy: 0.8167 - val_loss: 0.6569 - val_accuracy: 0.7132\n",
      "\n",
      "Epoch 00062: val_accuracy did not improve from 0.81008\n",
      "Epoch 63/120\n",
      "9/9 [==============================] - 21s 2s/step - loss: 0.3764 - accuracy: 0.8293 - val_loss: 0.4221 - val_accuracy: 0.7946\n",
      "\n",
      "Epoch 00063: val_accuracy did not improve from 0.81008\n",
      "Epoch 64/120\n",
      "9/9 [==============================] - 21s 2s/step - loss: 0.3531 - accuracy: 0.8545 - val_loss: 0.3764 - val_accuracy: 0.8178\n",
      "\n",
      "Epoch 00064: val_accuracy improved from 0.81008 to 0.81783, saving model to mymodel2_64.h5\n",
      "Epoch 65/120\n",
      "9/9 [==============================] - 21s 2s/step - loss: 0.3289 - accuracy: 0.8506 - val_loss: 0.3818 - val_accuracy: 0.8217\n",
      "\n",
      "Epoch 00065: val_accuracy improved from 0.81783 to 0.82171, saving model to mymodel2_65.h5\n",
      "Epoch 66/120\n",
      "9/9 [==============================] - 21s 2s/step - loss: 0.3392 - accuracy: 0.8594 - val_loss: 0.5516 - val_accuracy: 0.7558\n",
      "\n",
      "Epoch 00066: val_accuracy did not improve from 0.82171\n",
      "Epoch 67/120\n",
      "9/9 [==============================] - 119s 15s/step - loss: 0.2959 - accuracy: 0.8807 - val_loss: 0.5202 - val_accuracy: 0.7713\n",
      "\n",
      "Epoch 00067: val_accuracy did not improve from 0.82171\n",
      "Epoch 68/120\n",
      "9/9 [==============================] - 22s 2s/step - loss: 0.3139 - accuracy: 0.8652 - val_loss: 0.5371 - val_accuracy: 0.7791\n",
      "\n",
      "Epoch 00068: val_accuracy did not improve from 0.82171\n",
      "Epoch 69/120\n",
      "9/9 [==============================] - 22s 2s/step - loss: 0.2986 - accuracy: 0.8749 - val_loss: 0.7132 - val_accuracy: 0.7209\n",
      "\n",
      "Epoch 00069: val_accuracy did not improve from 0.82171\n",
      "Epoch 70/120\n",
      "9/9 [==============================] - 22s 2s/step - loss: 0.2979 - accuracy: 0.8739 - val_loss: 0.5095 - val_accuracy: 0.7791\n",
      "\n",
      "Epoch 00070: val_accuracy did not improve from 0.82171\n",
      "Epoch 71/120\n",
      "9/9 [==============================] - 22s 2s/step - loss: 0.3058 - accuracy: 0.8632 - val_loss: 0.5199 - val_accuracy: 0.7791\n",
      "\n",
      "Epoch 00071: val_accuracy did not improve from 0.82171\n",
      "Epoch 72/120\n",
      "9/9 [==============================] - 21s 2s/step - loss: 0.3179 - accuracy: 0.8632 - val_loss: 0.4418 - val_accuracy: 0.7946\n",
      "\n",
      "Epoch 00072: val_accuracy did not improve from 0.82171\n",
      "Epoch 73/120\n",
      "9/9 [==============================] - 21s 2s/step - loss: 0.3652 - accuracy: 0.8409 - val_loss: 0.6240 - val_accuracy: 0.7597\n",
      "\n",
      "Epoch 00073: val_accuracy did not improve from 0.82171\n",
      "Epoch 74/120\n",
      "9/9 [==============================] - 21s 2s/step - loss: 0.3775 - accuracy: 0.8497 - val_loss: 0.4002 - val_accuracy: 0.7946\n",
      "\n",
      "Epoch 00074: val_accuracy did not improve from 0.82171\n",
      "Epoch 75/120\n",
      "9/9 [==============================] - 21s 2s/step - loss: 0.3707 - accuracy: 0.8448 - val_loss: 0.3887 - val_accuracy: 0.8062\n",
      "\n",
      "Epoch 00075: val_accuracy did not improve from 0.82171\n",
      "Epoch 76/120\n",
      "9/9 [==============================] - 21s 2s/step - loss: 0.4140 - accuracy: 0.8341 - val_loss: 0.5606 - val_accuracy: 0.7364\n",
      "\n",
      "Epoch 00076: val_accuracy did not improve from 0.82171\n",
      "Epoch 77/120\n",
      "9/9 [==============================] - 21s 2s/step - loss: 0.3157 - accuracy: 0.8788 - val_loss: 0.5232 - val_accuracy: 0.7597\n",
      "\n",
      "Epoch 00077: val_accuracy did not improve from 0.82171\n",
      "Epoch 78/120\n",
      "9/9 [==============================] - 21s 2s/step - loss: 0.3065 - accuracy: 0.8700 - val_loss: 0.4636 - val_accuracy: 0.8023\n",
      "\n",
      "Epoch 00078: val_accuracy did not improve from 0.82171\n",
      "Epoch 79/120\n",
      "9/9 [==============================] - 21s 2s/step - loss: 0.3016 - accuracy: 0.8758 - val_loss: 0.3847 - val_accuracy: 0.8256\n",
      "\n",
      "Epoch 00079: val_accuracy improved from 0.82171 to 0.82558, saving model to mymodel2_79.h5\n",
      "Epoch 80/120\n",
      "9/9 [==============================] - 21s 2s/step - loss: 0.2626 - accuracy: 0.8914 - val_loss: 0.4102 - val_accuracy: 0.8140\n",
      "\n",
      "Epoch 00080: val_accuracy did not improve from 0.82558\n",
      "Epoch 81/120\n",
      "9/9 [==============================] - 21s 2s/step - loss: 0.2971 - accuracy: 0.8826 - val_loss: 0.3404 - val_accuracy: 0.8527\n",
      "\n",
      "Epoch 00081: val_accuracy improved from 0.82558 to 0.85271, saving model to mymodel2_81.h5\n",
      "Epoch 82/120\n"
     ]
    },
    {
     "name": "stdout",
     "output_type": "stream",
     "text": [
      "9/9 [==============================] - 21s 2s/step - loss: 0.2792 - accuracy: 0.8797 - val_loss: 0.4847 - val_accuracy: 0.7868\n",
      "\n",
      "Epoch 00082: val_accuracy did not improve from 0.85271\n",
      "Epoch 83/120\n",
      "9/9 [==============================] - 21s 2s/step - loss: 0.2806 - accuracy: 0.8788 - val_loss: 0.4609 - val_accuracy: 0.7984\n",
      "\n",
      "Epoch 00083: val_accuracy did not improve from 0.85271\n",
      "Epoch 84/120\n",
      "9/9 [==============================] - 21s 2s/step - loss: 0.2733 - accuracy: 0.8758 - val_loss: 0.3414 - val_accuracy: 0.8372\n",
      "\n",
      "Epoch 00084: val_accuracy did not improve from 0.85271\n",
      "Epoch 85/120\n",
      "9/9 [==============================] - 21s 2s/step - loss: 0.2872 - accuracy: 0.8817 - val_loss: 0.7123 - val_accuracy: 0.7326\n",
      "\n",
      "Epoch 00085: val_accuracy did not improve from 0.85271\n",
      "Epoch 86/120\n",
      "9/9 [==============================] - 21s 2s/step - loss: 0.2901 - accuracy: 0.8846 - val_loss: 0.5964 - val_accuracy: 0.7442\n",
      "\n",
      "Epoch 00086: val_accuracy did not improve from 0.85271\n",
      "Epoch 87/120\n",
      "9/9 [==============================] - 21s 2s/step - loss: 0.3197 - accuracy: 0.8623 - val_loss: 0.5376 - val_accuracy: 0.7597\n",
      "\n",
      "Epoch 00087: val_accuracy did not improve from 0.85271\n",
      "Epoch 88/120\n",
      "9/9 [==============================] - 21s 2s/step - loss: 0.2655 - accuracy: 0.8972 - val_loss: 0.4879 - val_accuracy: 0.7713\n",
      "\n",
      "Epoch 00088: val_accuracy did not improve from 0.85271\n",
      "Epoch 89/120\n",
      "9/9 [==============================] - 21s 2s/step - loss: 0.2822 - accuracy: 0.8797 - val_loss: 0.4074 - val_accuracy: 0.8256\n",
      "\n",
      "Epoch 00089: val_accuracy did not improve from 0.85271\n",
      "Epoch 90/120\n",
      "9/9 [==============================] - 21s 2s/step - loss: 0.2466 - accuracy: 0.8914 - val_loss: 0.5155 - val_accuracy: 0.7829\n",
      "\n",
      "Epoch 00090: val_accuracy did not improve from 0.85271\n",
      "Epoch 91/120\n",
      "9/9 [==============================] - 21s 2s/step - loss: 0.2702 - accuracy: 0.8865 - val_loss: 0.5610 - val_accuracy: 0.7674\n",
      "\n",
      "Epoch 00091: val_accuracy did not improve from 0.85271\n",
      "Epoch 92/120\n",
      "9/9 [==============================] - 21s 2s/step - loss: 0.2491 - accuracy: 0.8982 - val_loss: 0.4888 - val_accuracy: 0.7946\n",
      "\n",
      "Epoch 00092: val_accuracy did not improve from 0.85271\n",
      "Epoch 93/120\n",
      "9/9 [==============================] - 21s 2s/step - loss: 0.3651 - accuracy: 0.8642 - val_loss: 0.3613 - val_accuracy: 0.8295\n",
      "\n",
      "Epoch 00093: val_accuracy did not improve from 0.85271\n",
      "Epoch 94/120\n",
      "9/9 [==============================] - 21s 2s/step - loss: 0.2999 - accuracy: 0.8710 - val_loss: 0.4173 - val_accuracy: 0.8023\n",
      "\n",
      "Epoch 00094: val_accuracy did not improve from 0.85271\n",
      "Epoch 95/120\n",
      "9/9 [==============================] - 21s 2s/step - loss: 0.2861 - accuracy: 0.8778 - val_loss: 0.4775 - val_accuracy: 0.7868\n",
      "\n",
      "Epoch 00095: val_accuracy did not improve from 0.85271\n",
      "Epoch 96/120\n",
      "9/9 [==============================] - 21s 2s/step - loss: 0.2618 - accuracy: 0.9001 - val_loss: 0.5361 - val_accuracy: 0.7791\n",
      "\n",
      "Epoch 00096: val_accuracy did not improve from 0.85271\n",
      "Epoch 97/120\n",
      "9/9 [==============================] - 21s 2s/step - loss: 0.2624 - accuracy: 0.8865 - val_loss: 0.4027 - val_accuracy: 0.8178\n",
      "\n",
      "Epoch 00097: val_accuracy did not improve from 0.85271\n",
      "Epoch 98/120\n",
      "9/9 [==============================] - 22s 2s/step - loss: 0.2517 - accuracy: 0.8914 - val_loss: 0.3757 - val_accuracy: 0.8295\n",
      "\n",
      "Epoch 00098: val_accuracy did not improve from 0.85271\n",
      "Epoch 99/120\n",
      "9/9 [==============================] - 21s 2s/step - loss: 0.2636 - accuracy: 0.8933 - val_loss: 0.3847 - val_accuracy: 0.8295\n",
      "\n",
      "Epoch 00099: val_accuracy did not improve from 0.85271\n",
      "Epoch 100/120\n",
      "9/9 [==============================] - 21s 2s/step - loss: 0.2649 - accuracy: 0.8923 - val_loss: 0.5469 - val_accuracy: 0.7752\n",
      "\n",
      "Epoch 00100: val_accuracy did not improve from 0.85271\n",
      "Epoch 101/120\n",
      "9/9 [==============================] - 21s 2s/step - loss: 0.2767 - accuracy: 0.8768 - val_loss: 0.5389 - val_accuracy: 0.7713\n",
      "\n",
      "Epoch 00101: val_accuracy did not improve from 0.85271\n",
      "Epoch 102/120\n",
      "9/9 [==============================] - 21s 2s/step - loss: 0.2545 - accuracy: 0.8933 - val_loss: 0.8161 - val_accuracy: 0.7287\n",
      "\n",
      "Epoch 00102: val_accuracy did not improve from 0.85271\n",
      "Epoch 103/120\n",
      "9/9 [==============================] - 21s 2s/step - loss: 0.2695 - accuracy: 0.8904 - val_loss: 0.4729 - val_accuracy: 0.7829\n",
      "\n",
      "Epoch 00103: val_accuracy did not improve from 0.85271\n",
      "Epoch 104/120\n",
      "9/9 [==============================] - 21s 2s/step - loss: 0.2643 - accuracy: 0.8855 - val_loss: 0.3790 - val_accuracy: 0.8411\n",
      "\n",
      "Epoch 00104: val_accuracy did not improve from 0.85271\n",
      "Epoch 105/120\n",
      "9/9 [==============================] - 21s 2s/step - loss: 0.2268 - accuracy: 0.9040 - val_loss: 0.3430 - val_accuracy: 0.8450\n",
      "\n",
      "Epoch 00105: val_accuracy did not improve from 0.85271\n",
      "Epoch 106/120\n",
      "9/9 [==============================] - 22s 2s/step - loss: 0.2405 - accuracy: 0.8982 - val_loss: 0.4810 - val_accuracy: 0.7791\n",
      "\n",
      "Epoch 00106: val_accuracy did not improve from 0.85271\n",
      "Epoch 107/120\n",
      "9/9 [==============================] - 22s 2s/step - loss: 0.2406 - accuracy: 0.9108 - val_loss: 0.4912 - val_accuracy: 0.7946\n",
      "\n",
      "Epoch 00107: val_accuracy did not improve from 0.85271\n",
      "Epoch 108/120\n",
      "9/9 [==============================] - 23s 3s/step - loss: 0.2228 - accuracy: 0.9069 - val_loss: 0.4344 - val_accuracy: 0.8101\n",
      "\n",
      "Epoch 00108: val_accuracy did not improve from 0.85271\n",
      "Epoch 109/120\n",
      "9/9 [==============================] - 22s 2s/step - loss: 0.2354 - accuracy: 0.8991 - val_loss: 0.5374 - val_accuracy: 0.7636\n",
      "\n",
      "Epoch 00109: val_accuracy did not improve from 0.85271\n",
      "Epoch 110/120\n",
      "9/9 [==============================] - 22s 2s/step - loss: 0.2190 - accuracy: 0.9108 - val_loss: 0.4663 - val_accuracy: 0.8062\n",
      "\n",
      "Epoch 00110: val_accuracy did not improve from 0.85271\n",
      "Epoch 111/120\n",
      "9/9 [==============================] - 22s 2s/step - loss: 0.2381 - accuracy: 0.8943 - val_loss: 0.5462 - val_accuracy: 0.7907\n",
      "\n",
      "Epoch 00111: val_accuracy did not improve from 0.85271\n",
      "Epoch 112/120\n",
      "9/9 [==============================] - 22s 2s/step - loss: 0.2398 - accuracy: 0.8991 - val_loss: 0.4121 - val_accuracy: 0.8023\n",
      "\n",
      "Epoch 00112: val_accuracy did not improve from 0.85271\n",
      "Epoch 113/120\n",
      "9/9 [==============================] - 22s 2s/step - loss: 0.1991 - accuracy: 0.9205 - val_loss: 0.3941 - val_accuracy: 0.8217\n",
      "\n",
      "Epoch 00113: val_accuracy did not improve from 0.85271\n",
      "Epoch 114/120\n",
      "9/9 [==============================] - 22s 2s/step - loss: 0.2114 - accuracy: 0.9137 - val_loss: 0.3382 - val_accuracy: 0.8450\n",
      "\n",
      "Epoch 00114: val_accuracy did not improve from 0.85271\n",
      "Epoch 115/120\n",
      "9/9 [==============================] - 22s 2s/step - loss: 0.2070 - accuracy: 0.9137 - val_loss: 0.4273 - val_accuracy: 0.8217\n",
      "\n",
      "Epoch 00115: val_accuracy did not improve from 0.85271\n",
      "Epoch 116/120\n",
      "9/9 [==============================] - 22s 2s/step - loss: 0.1797 - accuracy: 0.9253 - val_loss: 0.4180 - val_accuracy: 0.8178\n",
      "\n",
      "Epoch 00116: val_accuracy did not improve from 0.85271\n",
      "Epoch 117/120\n",
      "9/9 [==============================] - 21s 2s/step - loss: 0.1911 - accuracy: 0.9253 - val_loss: 0.6399 - val_accuracy: 0.7829\n",
      "\n",
      "Epoch 00117: val_accuracy did not improve from 0.85271\n",
      "Epoch 118/120\n",
      "9/9 [==============================] - 23s 3s/step - loss: 0.2105 - accuracy: 0.9117 - val_loss: 0.2649 - val_accuracy: 0.8798\n",
      "\n",
      "Epoch 00118: val_accuracy improved from 0.85271 to 0.87984, saving model to mymodel2_118.h5\n",
      "Epoch 119/120\n",
      "9/9 [==============================] - 21s 2s/step - loss: 0.1971 - accuracy: 0.9185 - val_loss: 0.2717 - val_accuracy: 0.8682\n",
      "\n",
      "Epoch 00119: val_accuracy did not improve from 0.87984\n",
      "Epoch 120/120\n",
      "9/9 [==============================] - 21s 2s/step - loss: 0.2664 - accuracy: 0.8817 - val_loss: 0.2775 - val_accuracy: 0.8837\n",
      "\n",
      "Epoch 00120: val_accuracy improved from 0.87984 to 0.88372, saving model to mymodel2_120.h5\n",
      "Training completed in time:  0:44:17.953532\n"
     ]
    }
   ],
   "source": [
    "# train model\n",
    "num_epochs = 120\n",
    "num_batch_size = 128\n",
    "\n",
    "callbacks = [\n",
    "    ModelCheckpoint(\n",
    "        filepath='mymodel2_{epoch:02d}.h5',\n",
    "        # Path where to save the model\n",
    "        # The two parameters below mean that we will overwrite\n",
    "        # the current checkpoint if and only if\n",
    "        # the `val_accuracy` score has improved.\n",
    "        save_best_only=True,\n",
    "        monitor='val_accuracy',\n",
    "        verbose=1)\n",
    "]\n",
    "start = datetime.now()\n",
    "\n",
    "history=model.fit(x_train, y_train, batch_size=num_batch_size, epochs=num_epochs,\n",
    "          validation_data=(x_test, y_test), callbacks=callbacks, verbose=1)\n",
    "\n",
    "\n",
    "duration = datetime.now() - start\n",
    "print(\"Training completed in time: \", duration)\n"
   ]
  },
  {
   "cell_type": "code",
   "execution_count": 28,
   "metadata": {},
   "outputs": [
    {
     "name": "stdout",
     "output_type": "stream",
     "text": [
      "Training Accuracy:  0.9243453145027161\n",
      "Testing Accuracy:  0.8837209343910217\n"
     ]
    }
   ],
   "source": [
    "# Evaluating the model on the training and testing set\n",
    "score = model.evaluate(x_train, y_train, verbose=0)\n",
    "print(\"Training Accuracy: \", score[1])\n",
    "\n",
    "score = model.evaluate(x_test, y_test, verbose=0)\n",
    "print(\"Testing Accuracy: \", score[1])"
   ]
  },
  {
   "cell_type": "code",
   "execution_count": 29,
   "metadata": {},
   "outputs": [],
   "source": [
    "preds = model.predict(x_test) # label scores \n",
    "\n",
    "classpreds = np.argmax(preds, axis=1) # predicted classes \n",
    "\n",
    "y_testclass = np.argmax(y_test, axis=1) # true classes\n",
    "\n",
    "n_classes=3 # number of classes"
   ]
  },
  {
   "cell_type": "markdown",
   "metadata": {},
   "source": [
    "# Summarize History for Loss"
   ]
  },
  {
   "cell_type": "code",
   "execution_count": 30,
   "metadata": {},
   "outputs": [
    {
     "data": {
      "image/png": "[encoded data removed]",
      "text/plain": [
       "<Figure size 432x288 with 1 Axes>"
      ]
     },
     "metadata": {
      "needs_background": "light"
     },
     "output_type": "display_data"
    }
   ],
   "source": [
    "plt.plot(history.history['loss'])\n",
    "plt.plot(history.history['val_loss'])\n",
    "plt.title('model loss')\n",
    "plt.ylabel('loss')\n",
    "plt.xlabel('epoch')\n",
    "plt.legend(['train', 'test'], loc='upper left')\n",
    "plt.show()"
   ]
  },
  {
   "cell_type": "markdown",
   "metadata": {},
   "source": [
    "# Summarize History for accuracy"
   ]
  },
  {
   "cell_type": "code",
   "execution_count": 31,
   "metadata": {},
   "outputs": [
    {
     "data": {
      "image/png": "[encoded data removed]",
      "text/plain": [
       "<Figure size 432x288 with 1 Axes>"
      ]
     },
     "metadata": {
      "needs_background": "light"
     },
     "output_type": "display_data"
    }
   ],
   "source": [
    "plt.plot(history.history['accuracy'])\n",
    "plt.plot(history.history['val_accuracy'])\n",
    "plt.title('model accuracy')\n",
    "plt.ylabel('accuracy')\n",
    "plt.xlabel('epoch')\n",
    "plt.legend(['train', 'test'], loc='upper left')\n",
    "plt.show()"
   ]
  },
  {
   "cell_type": "code",
   "execution_count": 32,
   "metadata": {},
   "outputs": [],
   "source": [
    "# Compute ROC curve and ROC area for each class\n",
    "fpr = dict()\n",
    "tpr = dict()\n",
    "roc_auc = dict()\n",
    "for i in range(n_classes):\n",
    "    fpr[i], tpr[i], _ = roc_curve(y_test[:, i], preds[:, i])\n",
    "    roc_auc[i] = auc(fpr[i], tpr[i])"
   ]
  },
  {
   "cell_type": "code",
   "execution_count": 33,
   "metadata": {},
   "outputs": [],
   "source": [
    "c_names = ['Bronchiectasis', 'Bronchiolitis', 'COPD', 'Healthy', 'Pneumonia', 'URTI']\n",
    "c_names2=[\"Chronic\",'Healthy','Non Chronic']"
   ]
  },
  {
   "cell_type": "code",
   "execution_count": 34,
   "metadata": {},
   "outputs": [
    {
     "data": {
      "image/png": "[encoded data removed]",
      "text/plain": [
       "<Figure size 1152x720 with 1 Axes>"
      ]
     },
     "metadata": {
      "needs_background": "light"
     },
     "output_type": "display_data"
    }
   ],
   "source": [
    "# Plot ROC curves\n",
    "fig, ax = plt.subplots(figsize=(16, 10))\n",
    "ax.plot([0, 1], [0, 1], 'k--')\n",
    "ax.set_xlim([0.0, 1.0])\n",
    "ax.set_ylim([0.0, 1.05])\n",
    "ax.set_xlabel('False Positive Rate')\n",
    "ax.set_ylabel('True Positive Rate')\n",
    "ax.set_title('ROC Curve for Each Class')\n",
    "for i in range(n_classes):\n",
    "    ax.plot(fpr[i], tpr[i], linewidth=3, label='ROC curve (area = %0.2f) for %s' % (roc_auc[i], c_names2[i]))\n",
    "ax.legend(loc=\"best\", fontsize='x-large')\n",
    "ax.grid(alpha=.4)\n",
    "sns.despine()\n",
    "plt.show()"
   ]
  },
  {
   "cell_type": "code",
   "execution_count": 35,
   "metadata": {},
   "outputs": [
    {
     "name": "stdout",
     "output_type": "stream",
     "text": [
      "              precision    recall  f1-score   support\n",
      "\n",
      "     Chronic       1.00      0.94      0.97       159\n",
      "     Healthy       0.53      0.93      0.68        28\n",
      " Non Chronic       0.88      0.73      0.80        71\n",
      "\n",
      "    accuracy                           0.88       258\n",
      "   macro avg       0.80      0.87      0.82       258\n",
      "weighted avg       0.92      0.88      0.89       258\n",
      "\n"
     ]
    }
   ],
   "source": [
    "# Classification Report\n",
    "print(classification_report(y_testclass, classpreds, target_names=c_names2))"
   ]
  },
  {
   "cell_type": "code",
   "execution_count": 36,
   "metadata": {},
   "outputs": [
    {
     "name": "stdout",
     "output_type": "stream",
     "text": [
      "[[150   4   5]\n",
      " [  0  26   2]\n",
      " [  0  19  52]]\n"
     ]
    }
   ],
   "source": [
    "# Confusion Matrix\n",
    "print(confusion_matrix(y_testclass, classpreds))"
   ]
  }
 ],
 "metadata": {
  "kernelspec": {
   "display_name": "Python 3",
   "language": "python",
   "name": "python3"
  },
  "language_info": {
   "codemirror_mode": {
    "name": "ipython",
    "version": 3
   },
   "file_extension": ".py",
   "mimetype": "text/x-python",
   "name": "python",
   "nbconvert_exporter": "python",
   "pygments_lexer": "ipython3",
   "version": "3.8.3"
  }
 },
 "nbformat": 4,
 "nbformat_minor": 4
}
